{
 "cells": [
  {
   "cell_type": "markdown",
   "metadata": {},
   "source": [
    "# Synthetic Validation\n",
    "\n",
    "## Import Statement :"
   ]
  },
  {
   "cell_type": "code",
   "execution_count": 1,
   "metadata": {},
   "outputs": [],
   "source": [
    "%matplotlib inline\n",
    "\n",
    "import matplotlib.pyplot as plt\n",
    "import cv2, collections, numpy, math, pandas, scipy.integrate\n",
    "\n",
    "import openalea.phenomenal.data as phm_data \n",
    "import openalea.phenomenal.object as phm_obj\n",
    "import openalea.phenomenal.multi_view_reconstruction as phm_mvr\n",
    "import openalea.phenomenal.mesh as phm_mesh\n",
    "import openalea.phenomenal.display as phm_display\n",
    "import openalea.phenomenal.display.notebook as phm_display_notebook\n",
    "import openalea.phenomenal.segmentation as phm_seg"
   ]
  },
  {
   "cell_type": "markdown",
   "metadata": {},
   "source": [
    "## 1. Import synthetic data\n",
    "\n",
    "### 1.1 Select plant_number"
   ]
  },
  {
   "cell_type": "code",
   "execution_count": 2,
   "metadata": {},
   "outputs": [],
   "source": [
    "vertices, faces, meta_data = phm_data.synthetic_plant(plant_number=3)"
   ]
  },
  {
   "cell_type": "markdown",
   "metadata": {},
   "source": [
    "### 1.2 Viewing"
   ]
  },
  {
   "cell_type": "code",
   "execution_count": 3,
   "metadata": {},
   "outputs": [
    {
     "data": {
      "application/vnd.jupyter.widget-view+json": {
       "model_id": "100e6fb406ad4b899a10faf90a71b870",
       "version_major": 2,
       "version_minor": 0
      },
      "text/plain": [
       "VBox(children=(Figure(camera=PerspectiveCamera(fov=46.0, position=(0.0, 2.0, 1.2246467991473532e-16), quaterni…"
      ]
     },
     "metadata": {},
     "output_type": "display_data"
    }
   ],
   "source": [
    "phm_display_notebook.show_syntehtic_plant(vertices, faces, meta_data=None)"
   ]
  },
  {
   "cell_type": "markdown",
   "metadata": {},
   "source": [
    "## 2. Phenomenal Measurements\n",
    "\n",
    "### 2.1 Projection & binairies images"
   ]
  },
  {
   "cell_type": "code",
   "execution_count": 4,
   "metadata": {},
   "outputs": [],
   "source": [
    "image_shape = (2448, 2048)\n",
    "angles = range(0, 360, 30)\n",
    "calibrations = phm_data.calibrations(plant_number=1)\n",
    "\n",
    "selected = [(\"side\", angle, (2448, 2048)) for angle in range(0, 360, 30)]\n",
    "selected.append((\"top\", 0, (2048, 2448)))\n",
    "\n",
    "\n",
    "bin_images = collections.defaultdict(dict)\n",
    "for id_camera, angle, image_shape in selected:\n",
    "    projection = calibrations[id_camera].get_projection(angle)\n",
    "    image = phm_mesh.project_mesh_on_image(vertices, faces, image_shape, projection)\n",
    "    bin_images[id_camera][angle] = image"
   ]
  },
  {
   "cell_type": "code",
   "execution_count": 5,
   "metadata": {},
   "outputs": [
    {
     "data": {
      "image/png": "[encoded data removed]",
      "text/plain": [
       "<Figure size 432x288 with 13 Axes>"
      ]
     },
     "metadata": {
      "needs_background": "light"
     },
     "output_type": "display_data"
    }
   ],
   "source": [
    "# Display it\n",
    "phm_display.show_images(\n",
    "    list(bin_images['side'].values()) + \n",
    "    list(bin_images['top'].values()))"
   ]
  },
  {
   "cell_type": "markdown",
   "metadata": {},
   "source": [
    "### 2.2 Multi-view reconstruction\n",
    "\n",
    "#### 2.2.1 Associate images and projection function"
   ]
  },
  {
   "cell_type": "code",
   "execution_count": 6,
   "metadata": {},
   "outputs": [],
   "source": [
    "def routine_select_ref_angle(bin_side_images):\n",
    "\n",
    "    max_len = 0\n",
    "    max_angle = None\n",
    "    \n",
    "    for angle in bin_side_images:\n",
    "    \n",
    "        x_pos, y_pos, x_len, y_len = cv2.boundingRect(cv2.findNonZero(bin_side_images[angle]))\n",
    "\n",
    "        if x_len > max_len:\n",
    "            max_len = x_len\n",
    "            max_angle = angle\n",
    "\n",
    "    return max_angle"
   ]
  },
  {
   "cell_type": "code",
   "execution_count": 7,
   "metadata": {},
   "outputs": [],
   "source": [
    "refs_angle_list = [routine_select_ref_angle(bin_images[\"side\"])]\n",
    "\n",
    "image_views = list()\n",
    "for id_camera in bin_images:\n",
    "    for angle in bin_images[id_camera]:\n",
    "        projection = calibrations[id_camera].get_projection(angle)\n",
    "    \n",
    "        image_ref = None\n",
    "        if id_camera == \"side\" and angle in refs_angle_list:\n",
    "            image_ref = bin_images[id_camera][angle]\n",
    "        \n",
    "        inclusive = False\n",
    "        if id_camera == \"top\":\n",
    "            inclusive = True\n",
    "            \n",
    "        image_views.append(phm_obj.ImageView(\n",
    "            bin_images[id_camera][angle], \n",
    "            projection, \n",
    "            inclusive=inclusive, \n",
    "            image_ref=image_ref))"
   ]
  },
  {
   "cell_type": "markdown",
   "metadata": {},
   "source": [
    "#### 2.2.2 Do the mul-view reconstruction"
   ]
  },
  {
   "cell_type": "code",
   "execution_count": 8,
   "metadata": {},
   "outputs": [
    {
     "name": "stderr",
     "output_type": "stream",
     "text": [
      "/home/artzet_s/code/phenomenal/src/openalea/phenomenal/multi_view_reconstruction/multi_view_reconstruction.py:544: NumbaWarning: \n",
      "Compilation is falling back to object mode WITH looplifting enabled because Function \"get_integrale_image\" failed type inference due to: Invalid use of Function(<function zeros_like at 0x7efdd0093680>) with argument(s) of type(s): (array(uint8, 2d, C), dtype=Function(<class 'int'>))\n",
      " * parameterized\n",
      "In definition 0:\n",
      "    All templates rejected with literals.\n",
      "In definition 1:\n",
      "    All templates rejected without literals.\n",
      "This error is usually caused by passing an argument of a type that is unsupported by the named function.\n",
      "[1] During: resolving callee type: Function(<function zeros_like at 0x7efdd0093680>)\n",
      "[2] During: typing of call at /home/artzet_s/code/phenomenal/src/openalea/phenomenal/multi_view_reconstruction/multi_view_reconstruction.py (546)\n",
      "\n",
      "\n",
      "File \"../src/openalea/phenomenal/multi_view_reconstruction/multi_view_reconstruction.py\", line 546:\n",
      "def get_integrale_image(img):\n",
      "    a = numpy.zeros_like(img, dtype=int)\n",
      "    ^\n",
      "\n",
      "  @numba.jit()\n",
      "/home/artzet_s/code/phenomenal/src/openalea/phenomenal/multi_view_reconstruction/multi_view_reconstruction.py:544: NumbaWarning: \n",
      "Compilation is falling back to object mode WITHOUT looplifting enabled because Function \"get_integrale_image\" failed type inference due to: cannot determine Numba type of <class 'numba.dispatcher.LiftedLoop'>\n",
      "\n",
      "File \"../src/openalea/phenomenal/multi_view_reconstruction/multi_view_reconstruction.py\", line 547:\n",
      "def get_integrale_image(img):\n",
      "    <source elided>\n",
      "    a = numpy.zeros_like(img, dtype=int)\n",
      "    for y, x in numpy.ndindex(a.shape):\n",
      "    ^\n",
      "\n",
      "  @numba.jit()\n",
      "/home/artzet_s/miniconda3/envs/phenomenal3/lib/python3.7/site-packages/numba/object_mode_passes.py:178: NumbaWarning: Function \"get_integrale_image\" was compiled in object mode without forceobj=True, but has lifted loops.\n",
      "\n",
      "File \"../src/openalea/phenomenal/multi_view_reconstruction/multi_view_reconstruction.py\", line 545:\n",
      "@numba.jit()\n",
      "def get_integrale_image(img):\n",
      "^\n",
      "\n",
      "  state.func_ir.loc))\n",
      "/home/artzet_s/miniconda3/envs/phenomenal3/lib/python3.7/site-packages/numba/object_mode_passes.py:187: NumbaDeprecationWarning: \n",
      "Fall-back from the nopython compilation path to the object mode compilation path has been detected, this is deprecated behaviour.\n",
      "\n",
      "For more information visit http://numba.pydata.org/numba-doc/latest/reference/deprecation.html#deprecation-of-object-mode-fall-back-behaviour-when-using-jit\n",
      "\n",
      "File \"../src/openalea/phenomenal/multi_view_reconstruction/multi_view_reconstruction.py\", line 545:\n",
      "@numba.jit()\n",
      "def get_integrale_image(img):\n",
      "^\n",
      "\n",
      "  warnings.warn(errors.NumbaDeprecationWarning(msg, state.func_ir.loc))\n"
     ]
    }
   ],
   "source": [
    "error_tolerance = 1\n",
    "voxels_size = 4\n",
    "\n",
    "voxel_grid = phm_mvr.reconstruction_3d(image_views,\n",
    "                               voxels_size=voxels_size,\n",
    "                               error_tolerance=error_tolerance)"
   ]
  },
  {
   "cell_type": "code",
   "execution_count": 9,
   "metadata": {},
   "outputs": [
    {
     "data": {
      "application/vnd.jupyter.widget-view+json": {
       "model_id": "e1855c481d5a4b13ba5f3f23382bfcd2",
       "version_major": 2,
       "version_minor": 0
      },
      "text/plain": [
       "VBox(children=(Figure(camera=PerspectiveCamera(fov=46.0, position=(0.0, 2.0, 1.2246467991473532e-16), quaterni…"
      ]
     },
     "metadata": {},
     "output_type": "display_data"
    }
   ],
   "source": [
    "# Display it\n",
    "phm_display_notebook.show_voxel_grid(voxel_grid, size=1)"
   ]
  },
  {
   "cell_type": "markdown",
   "metadata": {},
   "source": [
    "### 2.3 Skeletonization"
   ]
  },
  {
   "cell_type": "code",
   "execution_count": 10,
   "metadata": {},
   "outputs": [],
   "source": [
    "graph = phm_seg.graph_from_voxel_grid(voxel_grid, connect_all_point=True)\n",
    "voxel_skeleton = phm_seg.skeletonize(voxel_grid, graph)\n",
    "\n",
    "# Select images\n",
    "image_projection = list()\n",
    "for angle in bin_images[\"side\"]:\n",
    "    projection = calibrations[\"side\"].get_projection(angle)\n",
    "    image_projection.append((bin_images[\"side\"][angle], projection))\n",
    "\n",
    "voxel_skeleton_denoised = phm_seg.segment_reduction(\n",
    "    voxel_skeleton, image_projection, required_visible=4, nb_min_pixel=100)"
   ]
  },
  {
   "cell_type": "code",
   "execution_count": 11,
   "metadata": {},
   "outputs": [
    {
     "data": {
      "application/vnd.jupyter.widget-view+json": {
       "model_id": "82b954db722c44f59338c5b28161f6a5",
       "version_major": 2,
       "version_minor": 0
      },
      "text/plain": [
       "VBox(children=(Figure(camera=PerspectiveCamera(fov=46.0, position=(0.0, 2.0, 1.2246467991473532e-16), quaterni…"
      ]
     },
     "metadata": {},
     "output_type": "display_data"
    }
   ],
   "source": [
    "# Display it\n",
    "phm_display_notebook.show_skeleton(voxel_skeleton_denoised, with_voxel=True, size=1.2)"
   ]
  },
  {
   "cell_type": "markdown",
   "metadata": {},
   "source": [
    "### 2.4 Cereals Segmentation"
   ]
  },
  {
   "cell_type": "code",
   "execution_count": 12,
   "metadata": {},
   "outputs": [
    {
     "name": "stderr",
     "output_type": "stream",
     "text": [
      "/home/artzet_s/code/phenomenal/src/openalea/phenomenal/segmentation/maize_analysis.py:115: FutureWarning: `rcond` parameter will change to the default of machine precision times ``max(M, N)`` where M and N are the input matrix dimensions.\n",
      "To use the future default and silence this warning we advise to pass `rcond=None`, to keep using the old, explicitly pass `rcond=-1`.\n",
      "  p_all = numpy.linalg.lstsq(XX, width[::-1])[0]\n"
     ]
    }
   ],
   "source": [
    "vms = phm_seg.maize_segmentation(voxel_skeleton_denoised, graph)\n",
    "vmsi = phm_seg.maize_analysis(vms)"
   ]
  },
  {
   "cell_type": "code",
   "execution_count": 13,
   "metadata": {},
   "outputs": [],
   "source": [
    "# Phenomenal measurements of each organs\n",
    "pm_rows = [vo.info for vo in vmsi.voxel_organs]"
   ]
  },
  {
   "cell_type": "code",
   "execution_count": 14,
   "metadata": {
    "scrolled": false
   },
   "outputs": [
    {
     "data": {
      "application/vnd.jupyter.widget-view+json": {
       "model_id": "e1427ff778794b64832579760ebb0e21",
       "version_major": 2,
       "version_minor": 0
      },
      "text/plain": [
       "VBox(children=(Figure(camera=PerspectiveCamera(fov=46.0, position=(0.0, 2.0, 1.2246467991473532e-16), quaterni…"
      ]
     },
     "metadata": {},
     "output_type": "display_data"
    }
   ],
   "source": [
    "# Display it\n",
    "phm_display_notebook.show_segmentation(vmsi, size=1.2)"
   ]
  },
  {
   "cell_type": "markdown",
   "metadata": {},
   "source": [
    "## 3. Synthetic measurement\n",
    "\n",
    "### 3.1 Diplay leaf meta-data"
   ]
  },
  {
   "cell_type": "code",
   "execution_count": 15,
   "metadata": {},
   "outputs": [
    {
     "data": {
      "application/vnd.jupyter.widget-view+json": {
       "model_id": "ea4d59ed021c4de18b4217b34ac3d10b",
       "version_major": 2,
       "version_minor": 0
      },
      "text/plain": [
       "VBox(children=(Figure(camera=PerspectiveCamera(fov=46.0, position=(0.0, 2.0, 1.2246467991473532e-16), quaterni…"
      ]
     },
     "metadata": {},
     "output_type": "display_data"
    }
   ],
   "source": [
    "phm_display_notebook.show_syntehtic_plant(vertices, faces, meta_data=meta_data)"
   ]
  },
  {
   "cell_type": "markdown",
   "metadata": {},
   "source": [
    "### 3.2 Extract measurements from meta-data"
   ]
  },
  {
   "cell_type": "code",
   "execution_count": 16,
   "metadata": {},
   "outputs": [],
   "source": [
    "def remove_duplicate(poly, width):\n",
    "    index, d = list(), dict()\n",
    "    for i, item in enumerate(map(tuple, list(poly))):\n",
    "        if item not in d:\n",
    "            index.append(i)\n",
    "            d[item] =  True\n",
    "    return poly[index], width[index]"
   ]
  },
  {
   "cell_type": "code",
   "execution_count": 23,
   "metadata": {},
   "outputs": [],
   "source": [
    "sm_rows = list()\n",
    "x, y, z, r = zip(*meta_data['stem'])\n",
    "polyline = numpy.array(list(zip(x, y, z))) * 10 - numpy.array([0, 0, 750])\n",
    "r = numpy.array(r) * 10\n",
    "polyline, r = remove_duplicate(polyline, r)\n",
    "\n",
    "row = dict()\n",
    "row['sm_label'] = \"stem\"\n",
    "row['sm_max_width'] = max(r)\n",
    "row['sm_average_width'] = numpy.mean(r)\n",
    "\n",
    "row['sm_surface'] = scipy.integrate.simps(\n",
    "        r, phm_seg.compute_curvilinear_abscissa(polyline, 1))\n",
    "row['sm_length'] = phm_seg.compute_length_organ(polyline)\n",
    "angle, stem_vector_mean = phm_seg.compute_azimuth_angle(polyline)\n",
    "sm_rows.append(row)\n",
    "\n",
    "ranks = meta_data['leaf_order']\n",
    "polylines = {n: map(numpy.array, list(zip(*meta_data['leaf_polylines'][i])))\n",
    "             for i, n in enumerate(ranks)}\n",
    "\n",
    "for leaf_order in polylines:\n",
    "    x, y, z, r = polylines[leaf_order]\n",
    "    polyline = numpy.array(list(zip(x, y, z))) * 10 - numpy.array([0, 0, 750])\n",
    "    r = numpy.array(r) * 10\n",
    "    polyline, r = remove_duplicate(polyline, r)\n",
    "    \n",
    "    row = dict()\n",
    "    row['sm_leaf_number'] = leaf_order\n",
    "    row['sm_label'] = \"leaf\"\n",
    "    row['sm_position_tip'] = tuple(polyline[-1])\n",
    "    row['sm_position_base'] = tuple(polyline[0])\n",
    "    row['sm_max_width'] = max(r)\n",
    "    row['sm_average_width'] = numpy.mean(r)\n",
    "    \n",
    "    row['sm_surface'] = scipy.integrate.simps(\n",
    "        r, phm_seg.compute_curvilinear_abscissa(polyline, 1))\n",
    "    \n",
    "    row['sm_length'] = phm_seg.compute_length_organ(polyline)\n",
    "    angle, vector_mean = phm_seg.compute_azimuth_angle(polyline)\n",
    "    row['sm_azimuth_angle'] = angle\n",
    "    insertion_angle, vector = phm_seg.compute_insertion_angle(polyline, stem_vector_mean)\n",
    "    row['sm_insertion_angle_vector'] = vector\n",
    "    row['sm_insertion_angle'] = insertion_angle\n",
    "    row['sm_inclination_angle'] = phm_seg.compute_inclination_angle(polyline)\n",
    "    row['sm_full_length'] = row['sm_length'] + polyline[0][2] + 750\n",
    "\n",
    "    sm_rows.append(row)"
   ]
  },
  {
   "cell_type": "markdown",
   "metadata": {},
   "source": [
    "## 4. Measures registration\n",
    "\n",
    "Merge synthetic and phenomenal row measure together"
   ]
  },
  {
   "cell_type": "code",
   "execution_count": 24,
   "metadata": {},
   "outputs": [],
   "source": [
    "def registration_leafs(pm_rows, sm_rows):\n",
    "\n",
    "    def cannot_registred(pm_row, sm_row):\n",
    "        for label in [\"stem\", \"plant\", \"unknown\"]:\n",
    "            if pm_row[\"pm_label\"] == label or sm_row[\"sm_label\"] == label:\n",
    "                return True\n",
    "        if math.isnan(pm_row[\"pm_length\"]):\n",
    "            return True\n",
    "        return False\n",
    "\n",
    "    def same_label(pm_row, sm_row):\n",
    "        for label in [\"stem\", \"plant\"]:\n",
    "            if pm_row[\"pm_label\"] == label and sm_row[\"sm_label\"] == label:\n",
    "                return True\n",
    "        return False\n",
    "\n",
    "    rows_distance = list()\n",
    "    registered_row = list()\n",
    "    for pm_row in pm_rows:\n",
    "        for sm_row in sm_rows:\n",
    "\n",
    "            if same_label(pm_row, sm_row):\n",
    "                registered_row.append((pm_row, sm_row, 0))\n",
    "                continue\n",
    "            if cannot_registred(pm_row, sm_row):\n",
    "                continue\n",
    "\n",
    "            pos1 = numpy.array(pm_row[\"pm_position_tip\"])\n",
    "            pos2 = numpy.array(sm_row[\"sm_position_tip\"])\n",
    "            distance = numpy.linalg.norm(pos2 - pos1)\n",
    "\n",
    "            rows_distance.append((pm_row, sm_row, distance))\n",
    "\n",
    "    while rows_distance:\n",
    "        (pm_row, sm_row, d) = min(rows_distance, key=lambda t: t[2])\n",
    "        registered_row.append((pm_row, sm_row, d))\n",
    "        rows_distance = [v for v in rows_distance\n",
    "                         if pm_row not in v and sm_row not in v]\n",
    "    return registered_row"
   ]
  },
  {
   "cell_type": "code",
   "execution_count": 25,
   "metadata": {},
   "outputs": [],
   "source": [
    "registred_rows = list()\n",
    "for pm_row, sm_row, d in registration_leafs(pm_rows, sm_rows):\n",
    "    sm_row.update(pm_row)\n",
    "    sm_row[\"distance_registration\"] = d\n",
    "    registred_rows.append(sm_row)"
   ]
  },
  {
   "cell_type": "markdown",
   "metadata": {},
   "source": [
    "### 4.2 Display result"
   ]
  },
  {
   "cell_type": "code",
   "execution_count": 26,
   "metadata": {},
   "outputs": [
    {
     "data": {
      "text/plain": [
       "[<matplotlib.lines.Line2D at 0x7efd79818f50>]"
      ]
     },
     "execution_count": 26,
     "metadata": {},
     "output_type": "execute_result"
    },
    {
     "data": {
      "image/png": "[encoded data removed]",
      "text/plain": [
       "<Figure size 432x288 with 1 Axes>"
      ]
     },
     "metadata": {
      "needs_background": "light"
     },
     "output_type": "display_data"
    }
   ],
   "source": [
    "df = pandas.DataFrame(registred_rows)\n",
    "# df = df[df[\"distance_registration\"] < 100]\n",
    "# df_filtred_label = df[df[\"pm_label\"] == \"mature_leaf\"]\n",
    "\n",
    "# print df[\"sm_inclination_angle\"], df[\"pm_inclination_angle\"], \n",
    "\n",
    "plt.plot(df[\"sm_full_length\"], df[\"pm_full_length\"], \"k+\")\n",
    "plt.plot(df[\"sm_surface\"] / 100.0, df[\"pm_surface\"] / 100.0, \"c+\")\n",
    "plt.plot(df[\"sm_inclination_angle\"] * 100.0, df[\"pm_inclination_angle\"] * 100.0, \"co\")\n",
    "for label, color in [(\"mature_leaf\", \"b+\"), (\"growing_leaf\", \"r+\"), (\"stem\", \"g+\")]:\n",
    "    df_filtred_label = df[df[\"pm_label\"] == label]\n",
    "    plt.plot(df_filtred_label[\"sm_length\"], df_filtred_label[\"pm_length\"], color)\n",
    "\n",
    "plt.plot(df_filtred_label[\"sm_length\"], df_filtred_label[\"pm_length\"], color)\n",
    "plt.xlabel(\"Phenomenal measurements\")\n",
    "plt.ylabel(\"Synthetic measurements\")\n",
    "\n",
    "m = int(max([df[k].max() for k in [\"pm_length\", \"sm_length\", \"pm_full_length\", \"sm_full_length\"]]))\n",
    "plt.plot(range(m), range(m), 'k-')"
   ]
  },
  {
   "cell_type": "code",
   "execution_count": null,
   "metadata": {},
   "outputs": [],
   "source": []
  }
 ],
 "metadata": {
  "kernelspec": {
   "display_name": "Python 3",
   "language": "python",
   "name": "python3"
  },
  "language_info": {
   "codemirror_mode": {
    "name": "ipython",
    "version": 3
   },
   "file_extension": ".py",
   "mimetype": "text/x-python",
   "name": "python",
   "nbconvert_exporter": "python",
   "pygments_lexer": "ipython3",
   "version": "3.7.5"
  }
 },
 "nbformat": 4,
 "nbformat_minor": 2
}
