{
 "cells": [
  {
   "cell_type": "markdown",
   "metadata": {},
   "source": [
    "# Segmentation 3D\n",
    "\n",
    "## 1. Prerequisites\n",
    "\n",
    "### 1.1 Load cloud point of voxel centers"
   ]
  },
  {
   "cell_type": "code",
   "execution_count": 1,
   "metadata": {},
   "outputs": [],
   "source": [
    "import cv2\n",
    "\n",
    "from openalea.phenomenal.data import (\n",
    "    plant_1_voxel_grid,\n",
    "    plant_2_voxel_grid,\n",
    "    plant_1_images_binarize,\n",
    "    plant_1_calibration_camera_side,\n",
    "    plant_1_calibration_camera_top)\n",
    "\n",
    "from openalea.phenomenal.display import *\n",
    "from openalea.phenomenal.object import (\n",
    "    VoxelSkeleton,\n",
    "    VoxelGrid,\n",
    "    VoxelSegmentation,\n",
    "    ImageView)\n",
    "\n",
    "from openalea.phenomenal.multi_view_reconstruction import *\n",
    "\n",
    "from openalea.phenomenal.segmentation_3D import (\n",
    "    voxel_graph_from_voxel_grid,\n",
    "    skeletonize,\n",
    "    labelize_maize_skeleton,\n",
    "    maize_analysis,\n",
    "    segment_reduction)"
   ]
  },
  {
   "cell_type": "code",
   "execution_count": 2,
   "metadata": {},
   "outputs": [],
   "source": [
    "def routine_select_ref_angle(image_views):\n",
    "\n",
    "    max_len = 0\n",
    "    image_view_max = None\n",
    "    for i, iv in enumerate(image_views):\n",
    "\n",
    "        x_pos, y_pos, x_len, y_len = cv2.boundingRect(cv2.findNonZero(iv.image))\n",
    "\n",
    "        if x_len > max_len:\n",
    "            max_len = x_len\n",
    "            image_view_max = iv\n",
    "\n",
    "    image_view_max.ref = True\n",
    "\n",
    "    return image_views"
   ]
  },
  {
   "cell_type": "code",
   "execution_count": 3,
   "metadata": {},
   "outputs": [
    {
     "name": "stdout",
     "output_type": "stream",
     "text": [
      "Iteration 1 / 9 : 8\n",
      "Iteration 2 / 9 : 64\n",
      "Iteration 3 / 9 : 512\n",
      "Iteration 4 / 9 : 4096\n",
      "Iteration 5 / 9 : 400\n",
      "Iteration 6 / 9 : 1392\n",
      "Iteration 7 / 9 : 4216\n",
      "Iteration 8 / 9 : 13776\n",
      "Iteration 9 / 9 : 55560\n"
     ]
    }
   ],
   "source": [
    "images = plant_1_images_binarize()\n",
    "\n",
    "calibration_side = plant_1_calibration_camera_side()\n",
    "calibration_top = plant_1_calibration_camera_top()\n",
    "\n",
    "# Select images\n",
    "image_views = list()\n",
    "for angle in range(0, 360, 30):\n",
    "    projection = calibration_side.get_projection(angle)\n",
    "    image_views.append(ImageView(images[angle], projection, inclusive=False))\n",
    "\n",
    "image_views = routine_select_ref_angle(image_views)\n",
    "\n",
    "projection = calibration_top.get_projection(0)\n",
    "image_views.append(ImageView(images[-1], projection, inclusive=True))\n",
    "\n",
    "voxels_size = 8\n",
    "error_tolerance = 1\n",
    "vg = reconstruction_3d(image_views,\n",
    "                       voxels_size=voxels_size,\n",
    "                       error_tolerance=error_tolerance,\n",
    "                       verbose=True)"
   ]
  },
  {
   "cell_type": "markdown",
   "metadata": {},
   "source": [
    "# Display voxel grid"
   ]
  },
  {
   "cell_type": "code",
   "execution_count": 4,
   "metadata": {},
   "outputs": [
    {
     "data": {
      "application/vnd.jupyter.widget-view+json": {
       "model_id": "981ff40c725641d784c474a528214a44",
       "version_major": 2,
       "version_minor": 0
      },
      "text/plain": [
       "A Jupyter Widget"
      ]
     },
     "metadata": {},
     "output_type": "display_data"
    }
   ],
   "source": [
    "from openalea.phenomenal.display.notebook import show_voxel_grid\n",
    "\n",
    "show_voxel_grid(vg)"
   ]
  },
  {
   "cell_type": "code",
   "execution_count": 5,
   "metadata": {},
   "outputs": [],
   "source": [
    "import time\n",
    "t0 = time.time()\n",
    "\n",
    "vg.voxels_position = map(tuple, list(vg.voxels_position))\n",
    "vg.voxels_size = int(vg.voxels_size)\n",
    "\n",
    "subgraph = None\n",
    "voxel_graph = voxel_graph_from_voxel_grid(vg, connect_all_point=True)\n",
    "voxel_skeleton = skeletonize(voxel_graph.graph,\n",
    "                             voxel_graph.voxels_size,\n",
    "                             subgraph=subgraph)"
   ]
  },
  {
   "cell_type": "markdown",
   "metadata": {},
   "source": [
    "# Display it"
   ]
  },
  {
   "cell_type": "code",
   "execution_count": 6,
   "metadata": {},
   "outputs": [
    {
     "data": {
      "application/vnd.jupyter.widget-view+json": {
       "model_id": "7451bf9988904f1a95e273ddd1453ed5",
       "version_major": 2,
       "version_minor": 0
      },
      "text/plain": [
       "A Jupyter Widget"
      ]
     },
     "metadata": {},
     "output_type": "display_data"
    }
   ],
   "source": [
    "from openalea.phenomenal.display.notebook import show_skeleton\n",
    "\n",
    "show_skeleton(voxel_skeleton)"
   ]
  },
  {
   "cell_type": "markdown",
   "metadata": {},
   "source": [
    "# Voxel segment reduction"
   ]
  },
  {
   "cell_type": "code",
   "execution_count": 7,
   "metadata": {},
   "outputs": [],
   "source": [
    "# Select images\n",
    "image_views = list()\n",
    "for angle in range(0, 360, 30):\n",
    "    projection = calibration_side.get_projection(angle)\n",
    "    image_views.append(ImageView(images[angle],\n",
    "                                 projection,\n",
    "                                 inclusive=False))\n",
    "\n",
    "voxel_skeleton = segment_reduction(voxel_skeleton,\n",
    "                                   image_views,\n",
    "                                   tolerance=4)"
   ]
  },
  {
   "cell_type": "code",
   "execution_count": 8,
   "metadata": {},
   "outputs": [
    {
     "data": {
      "application/vnd.jupyter.widget-view+json": {
       "model_id": "02e19b957c86481c94ae02135906eb51",
       "version_major": 2,
       "version_minor": 0
      },
      "text/plain": [
       "A Jupyter Widget"
      ]
     },
     "metadata": {},
     "output_type": "display_data"
    }
   ],
   "source": [
    "from openalea.phenomenal.display.notebook import show_skeleton\n",
    "\n",
    "show_skeleton(voxel_skeleton, color=\"green\")"
   ]
  },
  {
   "cell_type": "markdown",
   "metadata": {},
   "source": [
    "# Segmentation Maize"
   ]
  },
  {
   "cell_type": "code",
   "execution_count": 9,
   "metadata": {},
   "outputs": [],
   "source": [
    "vms = labelize_maize_skeleton(voxel_skeleton, voxel_graph)\n",
    "filename = 'voxel_maize_segmentation.json'\n",
    "vms.write_to_json_gz(filename)\n",
    "vms = VoxelSegmentation.read_from_json_gz(filename)"
   ]
  },
  {
   "cell_type": "code",
   "execution_count": 10,
   "metadata": {},
   "outputs": [
    {
     "data": {
      "application/vnd.jupyter.widget-view+json": {
       "model_id": "7f02b1f5e2c840c4bcb130397b3dcc68",
       "version_major": 2,
       "version_minor": 0
      },
      "text/plain": [
       "A Jupyter Widget"
      ]
     },
     "metadata": {},
     "output_type": "display_data"
    }
   ],
   "source": [
    "from openalea.phenomenal.display.notebook import show_segmentation\n",
    "\n",
    "show_segmentation(vms)"
   ]
  },
  {
   "cell_type": "code",
   "execution_count": 11,
   "metadata": {},
   "outputs": [],
   "source": [
    "vmsi = maize_analysis(vms)\n",
    "file_prefix = 'voxel_maize_segmentation_info'\n",
    "vmsi.write_to_json_gz(file_prefix)\n",
    "vmsi = VoxelSegmentation.read_from_json_gz(file_prefix)"
   ]
  },
  {
   "cell_type": "code",
   "execution_count": 12,
   "metadata": {},
   "outputs": [
    {
     "data": {
      "application/vnd.jupyter.widget-view+json": {
       "model_id": "d35d0ca251aa4d16ba04ed6db5c138bb",
       "version_major": 2,
       "version_minor": 0
      },
      "text/plain": [
       "A Jupyter Widget"
      ]
     },
     "metadata": {},
     "output_type": "display_data"
    }
   ],
   "source": [
    "show_segmentation(vms, size_ratio=0.5)"
   ]
  }
 ],
 "metadata": {
  "anaconda-cloud": {},
  "kernelspec": {
   "display_name": "Python 2",
   "language": "python",
   "name": "python2"
  },
  "language_info": {
   "codemirror_mode": {
    "name": "ipython",
    "version": 2
   },
   "file_extension": ".py",
   "mimetype": "text/x-python",
   "name": "python",
   "nbconvert_exporter": "python",
   "pygments_lexer": "ipython2",
   "version": "2.7.14"
  }
 },
 "nbformat": 4,
 "nbformat_minor": 1
}
