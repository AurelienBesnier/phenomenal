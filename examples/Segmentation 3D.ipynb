{
 "cells": [
  {
   "cell_type": "markdown",
   "metadata": {},
   "source": [
    "# Segmentation 3D\n",
    "\n",
    "## 1. Prerequisites\n",
    "\n",
    "### 1.1 Load cloud point of voxel centers"
   ]
  },
  {
   "cell_type": "code",
   "execution_count": 1,
   "metadata": {},
   "outputs": [],
   "source": [
    "import cv2\n",
    "\n",
    "import openalea.phenomenal.display as display\n",
    "import openalea.phenomenal.data as data\n",
    "\n",
    "from openalea.phenomenal.display.notebook import *\n",
    "\n",
    "from openalea.phenomenal.object import (\n",
    "    VoxelSkeleton,\n",
    "    VoxelGrid,\n",
    "    VoxelSegmentation,\n",
    "    ImageView)\n",
    "\n",
    "from openalea.phenomenal.multi_view_reconstruction import *\n",
    "\n",
    "from openalea.phenomenal.segmentation_3D import (\n",
    "    voxel_graph_from_voxel_grid,\n",
    "    skeletonize,\n",
    "    segment_reduction,\n",
    "    maize_segmentation,\n",
    "    maize_analysis)"
   ]
  },
  {
   "cell_type": "markdown",
   "metadata": {},
   "source": [
    "## Display voxel grid"
   ]
  },
  {
   "cell_type": "code",
   "execution_count": 2,
   "metadata": {},
   "outputs": [
    {
     "data": {
      "application/vnd.jupyter.widget-view+json": {
       "model_id": "975bb0edfc7e4c6ab0a39feb05dc99d2",
       "version_major": 2,
       "version_minor": 0
      },
      "text/plain": [
       "A Jupyter Widget"
      ]
     },
     "metadata": {},
     "output_type": "display_data"
    }
   ],
   "source": [
    "plant_number = 11\n",
    "voxels_size = 16\n",
    "bin_images = data.bin_images(plant_number=plant_number)\n",
    "calibrations = data.calibrations(plant_number=plant_number)\n",
    "voxel_grid = data.voxel_grid(plant_number=plant_number, voxels_size=voxels_size)\n",
    "\n",
    "show_voxel_grid(voxel_grid)"
   ]
  },
  {
   "cell_type": "markdown",
   "metadata": {},
   "source": [
    "## Skeletonization\n",
    "\n",
    "Compute the skeleton of the plant voxelgrid"
   ]
  },
  {
   "cell_type": "code",
   "execution_count": 3,
   "metadata": {},
   "outputs": [],
   "source": [
    "import time\n",
    "t0 = time.time()\n",
    "\n",
    "subgraph = None\n",
    "voxel_graph = voxel_graph_from_voxel_grid(voxel_grid, connect_all_point=True)\n",
    "voxel_skeleton = skeletonize(voxel_graph.graph,\n",
    "                             voxel_graph.voxels_size,\n",
    "                             subgraph=subgraph)"
   ]
  },
  {
   "cell_type": "markdown",
   "metadata": {},
   "source": [
    "### Display it"
   ]
  },
  {
   "cell_type": "code",
   "execution_count": 4,
   "metadata": {},
   "outputs": [
    {
     "data": {
      "application/vnd.jupyter.widget-view+json": {
       "model_id": "ce6ee22eb38e41b0bfbbdd682a4a564b",
       "version_major": 2,
       "version_minor": 0
      },
      "text/plain": [
       "A Jupyter Widget"
      ]
     },
     "metadata": {},
     "output_type": "display_data"
    }
   ],
   "source": [
    "show_skeleton(voxel_skeleton)"
   ]
  },
  {
   "cell_type": "markdown",
   "metadata": {},
   "source": [
    "# Voxel segment reduction"
   ]
  },
  {
   "cell_type": "code",
   "execution_count": 5,
   "metadata": {},
   "outputs": [],
   "source": [
    "# Select images\n",
    "image_views = list()\n",
    "for angle in bin_images[\"side\"]:\n",
    "    projection = calibrations[\"side\"].get_projection(angle)\n",
    "    image_views.append(ImageView(bin_images[\"side\"][angle], projection))\n",
    "\n",
    "voxel_skeleton_reduced = segment_reduction(voxel_skeleton,\n",
    "                                           image_views,\n",
    "                                           tolerance=4,\n",
    "                                           nb_min_pixel=100)"
   ]
  },
  {
   "cell_type": "markdown",
   "metadata": {},
   "source": [
    "### Display it"
   ]
  },
  {
   "cell_type": "code",
   "execution_count": 6,
   "metadata": {},
   "outputs": [
    {
     "data": {
      "application/vnd.jupyter.widget-view+json": {
       "model_id": "56a87ec9e04f4a5193049a070db08ad6",
       "version_major": 2,
       "version_minor": 0
      },
      "text/plain": [
       "A Jupyter Widget"
      ]
     },
     "metadata": {},
     "output_type": "display_data"
    }
   ],
   "source": [
    "show_skeleton(voxel_skeleton_reduced)"
   ]
  },
  {
   "cell_type": "markdown",
   "metadata": {},
   "source": [
    "# Segmentation Maize"
   ]
  },
  {
   "cell_type": "code",
   "execution_count": 11,
   "metadata": {},
   "outputs": [],
   "source": [
    "vms = maize_segmentation(voxel_skeleton_reduced, voxel_graph)\n",
    "\n",
    "import openalea.phenomenal.display as display\n",
    "\n",
    "ds = display.DisplaySegmentation()\n",
    "ds(vms)\n",
    "\n",
    "filename = 'voxel_maize_segmentation.json'\n",
    "vms.write_to_json_gz(filename)\n",
    "vms = VoxelSegmentation.read_from_json_gz(filename)"
   ]
  },
  {
   "cell_type": "code",
   "execution_count": 8,
   "metadata": {},
   "outputs": [
    {
     "data": {
      "application/vnd.jupyter.widget-view+json": {
       "model_id": "2f3106b33cc04461b0eda6b90860254f",
       "version_major": 2,
       "version_minor": 0
      },
      "text/plain": [
       "A Jupyter Widget"
      ]
     },
     "metadata": {},
     "output_type": "display_data"
    }
   ],
   "source": [
    "show_segmentation(vms)"
   ]
  },
  {
   "cell_type": "code",
   "execution_count": 9,
   "metadata": {},
   "outputs": [],
   "source": [
    "vmsi = maize_analysis(vms)\n",
    "file_prefix = 'voxel_maize_segmentation_info'\n",
    "vmsi.write_to_json_gz(file_prefix)\n",
    "vmsi = VoxelSegmentation.read_from_json_gz(file_prefix)"
   ]
  },
  {
   "cell_type": "code",
   "execution_count": 10,
   "metadata": {},
   "outputs": [
    {
     "data": {
      "application/vnd.jupyter.widget-view+json": {
       "model_id": "752a00095d5d4efab7d111f73b558675",
       "version_major": 2,
       "version_minor": 0
      },
      "text/plain": [
       "A Jupyter Widget"
      ]
     },
     "metadata": {},
     "output_type": "display_data"
    }
   ],
   "source": [
    "show_segmentation(vmsi, size_ratio=2)"
   ]
  },
  {
   "cell_type": "code",
   "execution_count": null,
   "metadata": {},
   "outputs": [],
   "source": []
  }
 ],
 "metadata": {
  "anaconda-cloud": {},
  "kernelspec": {
   "display_name": "Python 2",
   "language": "python",
   "name": "python2"
  },
  "language_info": {
   "codemirror_mode": {
    "name": "ipython",
    "version": 2
   },
   "file_extension": ".py",
   "mimetype": "text/x-python",
   "name": "python",
   "nbconvert_exporter": "python",
   "pygments_lexer": "ipython2",
   "version": "2.7.14"
  }
 },
 "nbformat": 4,
 "nbformat_minor": 1
}
