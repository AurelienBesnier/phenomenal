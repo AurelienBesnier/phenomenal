{
 "cells": [
  {
   "cell_type": "markdown",
   "metadata": {},
   "source": [
    "# Segmentation 3D\n",
    "\n",
    "## 1. Prerequisites\n",
    "\n",
    "### 1.1 Load cloud point of voxel centers"
   ]
  },
  {
   "cell_type": "code",
   "execution_count": 3,
   "metadata": {
    "collapsed": true
   },
   "outputs": [],
   "source": [
    "import cv2\n",
    "\n",
    "from openalea.phenomenal.data_access import (\n",
    "    plant_1_voxel_grid,\n",
    "    plant_2_voxel_grid,\n",
    "    plant_1_images_binarize)\n",
    "\n",
    "from openalea.phenomenal.display import *\n",
    "from openalea.phenomenal.data_structure import (\n",
    "    VoxelSkeleton,\n",
    "    VoxelGrid,\n",
    "    VoxelSegmentation,\n",
    "    ImageView)\n",
    "\n",
    "from openalea.phenomenal.multi_view_reconstruction import *\n",
    "\n",
    "from openalea.phenomenal.segmentation_3D import (\n",
    "    voxel_graph_from_voxel_grid,\n",
    "    skeletonize,\n",
    "    labelize_maize_skeleton,\n",
    "    maize_analysis,\n",
    "    segment_reduction)\n",
    "\n",
    "from openalea.phenomenal.data_access.plant_1 import (\n",
    "    plant_1_images_binarize,\n",
    "    plant_1_calibration_camera_side,\n",
    "    plant_1_calibration_camera_top)\n"
   ]
  },
  {
   "cell_type": "code",
   "execution_count": 4,
   "metadata": {
    "collapsed": true
   },
   "outputs": [],
   "source": [
    "def routine_select_ref_angle(image_views):\n",
    "\n",
    "    max_len = 0\n",
    "    image_view_max = None\n",
    "    for i, iv in enumerate(image_views):\n",
    "\n",
    "        x_pos, y_pos, x_len, y_len = cv2.boundingRect(cv2.findNonZero(iv.image))\n",
    "\n",
    "        if x_len > max_len:\n",
    "            max_len = x_len\n",
    "            image_view_max = iv\n",
    "\n",
    "    image_view_max.ref = True\n",
    "\n",
    "    return image_views"
   ]
  },
  {
   "cell_type": "code",
   "execution_count": 6,
   "metadata": {},
   "outputs": [
    {
     "name": "stdout",
     "output_type": "stream",
     "text": [
      "Iteration 1 / 9 : 8\n",
      "Iteration 2 / 9 : 64\n",
      "Iteration 3 / 9 : 512\n",
      "Iteration 4 / 9 : 4096\n",
      "Iteration 5 / 9 : 400\n",
      "Iteration 6 / 9 : 1392\n",
      "Iteration 7 / 9 : 4216\n",
      "Iteration 8 / 9 : 13776\n",
      "Iteration 9 / 9 : 55560\n",
      "27762\n"
     ]
    }
   ],
   "source": [
    "images = plant_1_images_binarize()\n",
    "\n",
    "calibration_side = plant_1_calibration_camera_side()\n",
    "calibration_top = plant_1_calibration_camera_top()\n",
    "\n",
    "# Select images\n",
    "image_views = list()\n",
    "for angle in range(0, 360, 30):\n",
    "    projection = calibration_side.get_projection(angle)\n",
    "    image_views.append(ImageView(images[angle], projection, inclusive=False))\n",
    "\n",
    "image_views = routine_select_ref_angle(image_views)\n",
    "\n",
    "projection = calibration_top.get_projection(0)\n",
    "image_views.append(ImageView(images[-1], projection, inclusive=True))\n",
    "\n",
    "voxels_size = 8\n",
    "error_tolerance = 1\n",
    "vg = reconstruction_3d(image_views,\n",
    "                       voxels_size=voxels_size,\n",
    "                       error_tolerance=error_tolerance,\n",
    "                       verbose=True)\n",
    "\n",
    "vg.voxels_position = map(tuple, list(vg.voxels_position))\n",
    "vg.voxels_size = int(vg.voxels_size)\n",
    "\n",
    "print len(vg.voxels_position)\n",
    "# 27762\n",
    "\n",
    "DisplayVoxelGrid(vg).show()"
   ]
  },
  {
   "cell_type": "code",
   "execution_count": null,
   "metadata": {
    "collapsed": true
   },
   "outputs": [],
   "source": [
    "import time\n",
    "t0 = time.time()\n",
    "\n",
    "subgraph = None\n",
    "voxel_graph = voxel_graph_from_voxel_grid(vg, connect_all_point=True)\n",
    "voxel_skeleton = skeletonize(voxel_graph.graph,\n",
    "                             voxel_graph.voxels_size,\n",
    "                             subgraph=subgraph)"
   ]
  },
  {
   "cell_type": "code",
   "execution_count": null,
   "metadata": {
    "collapsed": true
   },
   "outputs": [],
   "source": [
    "# Select images\n",
    "image_views = list()\n",
    "for angle in range(0, 360, 30):\n",
    "    projection = calibration_side.get_projection(angle)\n",
    "    image_views.append(ImageView(images[angle],\n",
    "                                 projection,\n",
    "                                 inclusive=False))\n",
    "\n",
    "print time.time() - t0, \"s\"\n",
    "t0 = time.time()\n",
    "print len(voxel_skeleton.voxel_segments)\n",
    "DisplaySkeleton(voxel_skeleton).show()\n",
    "voxel_skeleton = segment_reduction(voxel_skeleton,\n",
    "                                   image_views,\n",
    "                                   tolerance=4)"
   ]
  },
  {
   "cell_type": "code",
   "execution_count": null,
   "metadata": {
    "collapsed": true
   },
   "outputs": [],
   "source": [
    "print time.time() - t0, \"s\"\n",
    "print len(voxel_skeleton.voxel_segments)\n",
    "DisplaySkeleton(voxel_skeleton).show()\n",
    "\n",
    "vms = labelize_maize_skeleton(voxel_skeleton, voxel_graph)\n",
    "filename = 'voxel_maize_segmentation.json'\n",
    "vms.write_to_json_gz(filename)\n",
    "vms = VoxelSegmentation.read_from_json_gz(filename)\n",
    "DisplaySegmentation(vms).show()"
   ]
  },
  {
   "cell_type": "code",
   "execution_count": 7,
   "metadata": {},
   "outputs": [
    {
     "name": "stdout",
     "output_type": "stream",
     "text": [
      "23.4359998703 s\n",
      "34\n",
      "489.663000107 s\n",
      "15\n"
     ]
    }
   ],
   "source": [
    "vmsi = maize_analysis(vms)\n",
    "file_prefix = 'voxel_maize_segmentation_info'\n",
    "vmsi.write_to_json_gz(file_prefix)\n",
    "vmsi = VoxelSegmentation.read_from_json_gz(file_prefix)\n",
    "\n",
    "DisplaySegmentation(vmsi).show(1)"
   ]
  },
  {
   "cell_type": "code",
   "execution_count": null,
   "metadata": {
    "collapsed": true
   },
   "outputs": [],
   "source": []
  }
 ],
 "metadata": {
  "anaconda-cloud": {},
  "kernelspec": {
   "display_name": "Python 2",
   "language": "python",
   "name": "python2"
  },
  "language_info": {
   "codemirror_mode": {
    "name": "ipython",
    "version": 2
   },
   "file_extension": ".py",
   "mimetype": "text/x-python",
   "name": "python",
   "nbconvert_exporter": "python",
   "pygments_lexer": "ipython2",
   "version": "2.7.14"
  }
 },
 "nbformat": 4,
 "nbformat_minor": 1
}
