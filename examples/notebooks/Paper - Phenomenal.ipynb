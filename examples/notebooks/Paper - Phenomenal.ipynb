{
 "cells": [
  {
   "cell_type": "markdown",
   "metadata": {},
   "source": [
    "# Camera Calibration\n",
    "\n",
    "\n",
    "The 3D plant geometry was reconstructed from multiple images, each of which was a projection of the 3D plant into a plane (i.e. 2D image). However, the position and orientation of the plane in a global reference frame is unknown. Therefore, the Phenomenal pipeline includes an optimization algorithm (Salvi et al., 2002) for multi-view camera calibration, a classical procedure in computer vision (reference). This algorithm minimized the distance between a reference frame, a chessboard in our case, and its multi-view projections on its images by modifying the intrinsic and extrinsic parameters of a model camera. The position and orientation of the model camera for each view was computed globally since the intrinsic parameters of the camera (i.e. focal length, aspect ratio, skew) were fixed during an experiment and the camera calibration before that experiment. The extrinsic parameters (i.e. translation and rotation matrices) were computed independently for each view used for 3D reconstruction. In our system, the camera is fixed, but the target object (i.e. the plant) is rotated around an unknown axis of a given angle. The position of the rotation axis (X,Y) and the height of the camera is used as initial parameters of the optimisation algorithm."
   ]
  },
  {
   "cell_type": "markdown",
   "metadata": {},
   "source": [
    "# Plant image segmentation\n",
    "\n",
    "Before the stage of 3D-reconstruction, Phenomenal pipeline separates the background pixels of each original image (the image cabin) from the foreground (the target plant) to produce a binary image. This automatic separation was achieved by combining two threshold algorithms. First, a mean-shift threshold algorithm (Comaniciu and Meer, 2002) was applied to separate the fixed part (the background) from the moving part (the plant) of the images obtained from the same plant but from different views :\n",
    "\n",
    "$$min_{RGB}(\\frac{image_{k}}{\\overline{image}}) <= 0.70$$\n",
    "\n",
    "* $image_{k}$: k-th RGB image of the serie\n",
    "* $image$: mean RGB image from the different views  (see Figure XX.A)\n",
    "* $min_{RGB}$ : minimum value of the RGB tuple for each pixel\n",
    "\n",
    "Then, if some parts of the plant are located on the axis of rotation and are not moving (e.g. the stem), they are removed by the mean/shift threshold algorithm. To recover these pixels, we use an HSV threshold algorithm (Sural et al., 2002). To do so, images are converted into HSV color space and pixels contained in the pre-defined bound values (i.e. green, brown) are kept:\n",
    "\n",
    "$$HSV <= lowerboundHSVimage <= HSVupperbound$$\n",
    "$$\\equiv$$\n",
    "$$H_{lowerb} <= H_{image} <= H_{upperb} \\land S_{lowerb} <= S_{image} <= S_{upperb} \\land V_{lowerb} <= V_{image} <= V_{upperb} $$\n",
    "\n",
    "\n",
    "\n",
    "Finally, a media blur (Huang et al, 1979) is applied to erase remaining noise. \n"
   ]
  },
  {
   "cell_type": "code",
   "execution_count": 1,
   "metadata": {
    "collapsed": false
   },
   "outputs": [
    {
     "ename": "IOError",
     "evalue": "[Errno 2] No such file or directory: 'c:\\\\users\\\\artzetsi\\\\pycharmprojects\\\\phenome\\\\phenomenal\\\\src\\\\alinea\\\\phenomenal\\\\share\\\\data\\\\plant_1\\\\images\\\\*.png'",
     "output_type": "error",
     "traceback": [
      "\u001b[0;31m---------------------------------------------------------------------------\u001b[0m",
      "\u001b[0;31mIOError\u001b[0m                                   Traceback (most recent call last)",
      "\u001b[0;32m<ipython-input-1-35385ed4d94a>\u001b[0m in \u001b[0;36m<module>\u001b[0;34m()\u001b[0m\n\u001b[1;32m      5\u001b[0m \u001b[1;33m\u001b[0m\u001b[0m\n\u001b[1;32m      6\u001b[0m \u001b[1;33m\u001b[0m\u001b[0m\n\u001b[0;32m----> 7\u001b[0;31m \u001b[0mraw_images\u001b[0m \u001b[1;33m=\u001b[0m \u001b[0mplant_1_images\u001b[0m\u001b[1;33m(\u001b[0m\u001b[1;33m)\u001b[0m\u001b[1;33m\u001b[0m\u001b[0m\n\u001b[0m\u001b[1;32m      8\u001b[0m \u001b[1;32mprint\u001b[0m \u001b[0mraw_images\u001b[0m\u001b[1;33m\u001b[0m\u001b[0m\n",
      "\u001b[0;32mc:\\users\\artzetsi\\pycharmprojects\\phenome\\phenomenal\\src\\alinea\\phenomenal\\data_access\\plant_1.py\u001b[0m in \u001b[0;36mplant_1_images\u001b[0;34m()\u001b[0m\n\u001b[1;32m     52\u001b[0m     \u001b[1;32mimport\u001b[0m \u001b[0mpkgutil\u001b[0m\u001b[1;33m\u001b[0m\u001b[0m\n\u001b[1;32m     53\u001b[0m     data = pkgutil.get_data('alinea.phenomenal',\n\u001b[0;32m---> 54\u001b[0;31m                             'share/data/plant_1/images/*.png')\n\u001b[0m\u001b[1;32m     55\u001b[0m \u001b[1;33m\u001b[0m\u001b[0m\n\u001b[1;32m     56\u001b[0m     \u001b[1;32mprint\u001b[0m \u001b[0mdata\u001b[0m\u001b[1;33m\u001b[0m\u001b[0m\n",
      "\u001b[0;32mC:\\Users\\artzetsi\\Miniconda2\\envs\\phenome\\lib\\pkgutil.pyc\u001b[0m in \u001b[0;36mget_data\u001b[0;34m(package, resource)\u001b[0m\n\u001b[1;32m    589\u001b[0m     \u001b[0mparts\u001b[0m\u001b[1;33m.\u001b[0m\u001b[0minsert\u001b[0m\u001b[1;33m(\u001b[0m\u001b[1;36m0\u001b[0m\u001b[1;33m,\u001b[0m \u001b[0mos\u001b[0m\u001b[1;33m.\u001b[0m\u001b[0mpath\u001b[0m\u001b[1;33m.\u001b[0m\u001b[0mdirname\u001b[0m\u001b[1;33m(\u001b[0m\u001b[0mmod\u001b[0m\u001b[1;33m.\u001b[0m\u001b[0m__file__\u001b[0m\u001b[1;33m)\u001b[0m\u001b[1;33m)\u001b[0m\u001b[1;33m\u001b[0m\u001b[0m\n\u001b[1;32m    590\u001b[0m     \u001b[0mresource_name\u001b[0m \u001b[1;33m=\u001b[0m \u001b[0mos\u001b[0m\u001b[1;33m.\u001b[0m\u001b[0mpath\u001b[0m\u001b[1;33m.\u001b[0m\u001b[0mjoin\u001b[0m\u001b[1;33m(\u001b[0m\u001b[1;33m*\u001b[0m\u001b[0mparts\u001b[0m\u001b[1;33m)\u001b[0m\u001b[1;33m\u001b[0m\u001b[0m\n\u001b[0;32m--> 591\u001b[0;31m     \u001b[1;32mreturn\u001b[0m \u001b[0mloader\u001b[0m\u001b[1;33m.\u001b[0m\u001b[0mget_data\u001b[0m\u001b[1;33m(\u001b[0m\u001b[0mresource_name\u001b[0m\u001b[1;33m)\u001b[0m\u001b[1;33m\u001b[0m\u001b[0m\n\u001b[0m",
      "\u001b[0;32mC:\\Users\\artzetsi\\Miniconda2\\envs\\phenome\\lib\\pkgutil.pyc\u001b[0m in \u001b[0;36mget_data\u001b[0;34m(self, pathname)\u001b[0m\n\u001b[1;32m    253\u001b[0m \u001b[1;33m\u001b[0m\u001b[0m\n\u001b[1;32m    254\u001b[0m     \u001b[1;32mdef\u001b[0m \u001b[0mget_data\u001b[0m\u001b[1;33m(\u001b[0m\u001b[0mself\u001b[0m\u001b[1;33m,\u001b[0m \u001b[0mpathname\u001b[0m\u001b[1;33m)\u001b[0m\u001b[1;33m:\u001b[0m\u001b[1;33m\u001b[0m\u001b[0m\n\u001b[0;32m--> 255\u001b[0;31m         \u001b[1;32mreturn\u001b[0m \u001b[0mopen\u001b[0m\u001b[1;33m(\u001b[0m\u001b[0mpathname\u001b[0m\u001b[1;33m,\u001b[0m \u001b[1;34m\"rb\"\u001b[0m\u001b[1;33m)\u001b[0m\u001b[1;33m.\u001b[0m\u001b[0mread\u001b[0m\u001b[1;33m(\u001b[0m\u001b[1;33m)\u001b[0m\u001b[1;33m\u001b[0m\u001b[0m\n\u001b[0m\u001b[1;32m    256\u001b[0m \u001b[1;33m\u001b[0m\u001b[0m\n\u001b[1;32m    257\u001b[0m     \u001b[1;32mdef\u001b[0m \u001b[0m_reopen\u001b[0m\u001b[1;33m(\u001b[0m\u001b[0mself\u001b[0m\u001b[1;33m)\u001b[0m\u001b[1;33m:\u001b[0m\u001b[1;33m\u001b[0m\u001b[0m\n",
      "\u001b[0;31mIOError\u001b[0m: [Errno 2] No such file or directory: 'c:\\\\users\\\\artzetsi\\\\pycharmprojects\\\\phenome\\\\phenomenal\\\\src\\\\alinea\\\\phenomenal\\\\share\\\\data\\\\plant_1\\\\images\\\\*.png'"
     ]
    }
   ],
   "source": [
    "# Display Figure \n",
    "from alinea.phenomenal.display import *\n",
    "from alinea.phenomenal.data_access import *\n",
    "from alinea.phenomenal.binarization import *\n",
    "\n",
    "\n",
    "raw_images = plant_1_images()\n",
    "print raw_images\n"
   ]
  },
  {
   "cell_type": "code",
   "execution_count": null,
   "metadata": {
    "collapsed": true
   },
   "outputs": [],
   "source": []
  },
  {
   "cell_type": "code",
   "execution_count": null,
   "metadata": {
    "collapsed": true
   },
   "outputs": [],
   "source": []
  }
 ],
 "metadata": {
  "anaconda-cloud": {},
  "kernelspec": {
   "display_name": "Python [conda env:phenome]",
   "language": "python",
   "name": "conda-env-phenome-py"
  },
  "language_info": {
   "codemirror_mode": {
    "name": "ipython",
    "version": 2
   },
   "file_extension": ".py",
   "mimetype": "text/x-python",
   "name": "python",
   "nbconvert_exporter": "python",
   "pygments_lexer": "ipython2",
   "version": "2.7.12"
  }
 },
 "nbformat": 4,
 "nbformat_minor": 1
}
