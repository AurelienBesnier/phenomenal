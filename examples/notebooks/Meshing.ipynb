{
 "cells": [
  {
   "cell_type": "markdown",
   "metadata": {},
   "source": [
    "# Meshing\n",
    "\n",
    "## 1. Prerequisites\n",
    "\n",
    "### 1.1 Load cloud point of voxel centers"
   ]
  },
  {
   "cell_type": "code",
   "execution_count": 1,
   "metadata": {
    "collapsed": false
   },
   "outputs": [
    {
     "ename": "ImportError",
     "evalue": "cannot import name plant_1_voxel_centers",
     "output_type": "error",
     "traceback": [
      "\u001b[0;31m---------------------------------------------------------------------------\u001b[0m",
      "\u001b[0;31mImportError\u001b[0m                               Traceback (most recent call last)",
      "\u001b[0;32m<ipython-input-1-76be1087d936>\u001b[0m in \u001b[0;36m<module>\u001b[0;34m()\u001b[0m\n\u001b[1;32m      1\u001b[0m \u001b[0mget_ipython\u001b[0m\u001b[1;33m(\u001b[0m\u001b[1;33m)\u001b[0m\u001b[1;33m.\u001b[0m\u001b[0mmagic\u001b[0m\u001b[1;33m(\u001b[0m\u001b[1;34mu'matplotlib notebook'\u001b[0m\u001b[1;33m)\u001b[0m\u001b[1;33m\u001b[0m\u001b[0m\n\u001b[1;32m      2\u001b[0m \u001b[1;33m\u001b[0m\u001b[0m\n\u001b[0;32m----> 3\u001b[0;31m \u001b[1;32mfrom\u001b[0m \u001b[0malinea\u001b[0m\u001b[1;33m.\u001b[0m\u001b[0mphenomenal\u001b[0m\u001b[1;33m.\u001b[0m\u001b[0mdata_access\u001b[0m\u001b[1;33m.\u001b[0m\u001b[0mplant_1\u001b[0m \u001b[1;32mimport\u001b[0m \u001b[0mplant_1_voxel_centers\u001b[0m\u001b[1;33m\u001b[0m\u001b[0m\n\u001b[0m\u001b[1;32m      4\u001b[0m from alinea.phenomenal.display import (\n\u001b[1;32m      5\u001b[0m     show_points_3d, show_image)\n",
      "\u001b[0;31mImportError\u001b[0m: cannot import name plant_1_voxel_centers"
     ]
    }
   ],
   "source": [
    "%matplotlib notebook\n",
    "\n",
    "from alinea.phenomenal.data_access.plant_1 import plant_1_voxel_centers\n",
    "from alinea.phenomenal.display import (\n",
    "    show_points_3d, show_image)\n",
    "\n",
    "voxel_size = 4\n",
    "voxel_centers = plant_1_voxel_centers(voxel_size=voxel_size)\n",
    "\n",
    "# Display it\n",
    "im = show_points_3d(voxel_centers, scale_factor=voxel_size, color=(0.1, 0.9, 0.1))\n",
    "# Documentation image incrustation\n",
    "show_image(im)"
   ]
  },
  {
   "cell_type": "code",
   "execution_count": 2,
   "metadata": {
    "collapsed": false
   },
   "outputs": [
    {
     "ename": "ImportError",
     "evalue": "cannot import name voxel_centers_to_image_3d",
     "output_type": "error",
     "traceback": [
      "\u001b[0;31m---------------------------------------------------------------------------\u001b[0m",
      "\u001b[0;31mImportError\u001b[0m                               Traceback (most recent call last)",
      "\u001b[0;32m<ipython-input-2-aa63b2648525>\u001b[0m in \u001b[0;36m<module>\u001b[0;34m()\u001b[0m\n\u001b[0;32m----> 1\u001b[0;31m \u001b[1;32mfrom\u001b[0m \u001b[0malinea\u001b[0m\u001b[1;33m.\u001b[0m\u001b[0mphenomenal\u001b[0m\u001b[1;33m.\u001b[0m\u001b[0mdata_structure\u001b[0m \u001b[1;32mimport\u001b[0m \u001b[0mvoxel_centers_to_image_3d\u001b[0m\u001b[1;33m\u001b[0m\u001b[0m\n\u001b[0m\u001b[1;32m      2\u001b[0m \u001b[1;33m\u001b[0m\u001b[0m\n\u001b[1;32m      3\u001b[0m \u001b[1;31m# Convert voxel_centers to image3D\u001b[0m\u001b[1;33m\u001b[0m\u001b[1;33m\u001b[0m\u001b[0m\n\u001b[1;32m      4\u001b[0m \u001b[0mimage_3d\u001b[0m \u001b[1;33m=\u001b[0m \u001b[0mvoxel_centers_to_image_3d\u001b[0m\u001b[1;33m(\u001b[0m\u001b[0mvoxel_centers\u001b[0m\u001b[1;33m,\u001b[0m \u001b[0mvoxel_size\u001b[0m\u001b[1;33m)\u001b[0m\u001b[1;33m\u001b[0m\u001b[0m\n",
      "\u001b[0;31mImportError\u001b[0m: cannot import name voxel_centers_to_image_3d"
     ]
    }
   ],
   "source": [
    "from alinea.phenomenal.data_structure import voxel_centers_to_image_3d\n",
    "\n",
    "# Convert voxel_centers to image3D\n",
    "image_3d = voxel_centers_to_image_3d(voxel_centers, voxel_size)"
   ]
  },
  {
   "cell_type": "markdown",
   "metadata": {},
   "source": [
    "## 2. Meshing\n",
    "\n",
    "### 2.1 Do meshing"
   ]
  },
  {
   "cell_type": "code",
   "execution_count": 10,
   "metadata": {
    "collapsed": false
   },
   "outputs": [
    {
     "name": "stdout",
     "output_type": "stream",
     "text": [
      "================================================================\n",
      "Marching cubes :\n",
      "\tIso value : 1.0\n",
      "\n",
      "\tThere are 53611 points.\n",
      "\tThere are 107980 polygons.\n",
      "\n",
      "================================================================\n",
      "================================================================\n",
      "Decimation :\n",
      "\tReduction (percentage) : 0.95\n",
      "\n",
      "\tBefore decimation\n",
      "\t-----------------\n",
      "\tThere are 53611 points.\n",
      "\tThere are 107980 polygons.\n",
      "\n",
      "\tAfter decimation\n",
      "\t-----------------\n",
      "\tThere are 2707 points.\n",
      "\tThere are 5399 polygons.\n",
      "================================================================\n"
     ]
    }
   ],
   "source": [
    "from alinea.phenomenal.mesh.algorithms import meshing\n",
    "\n",
    "\n",
    "vertices, faces = meshing(image_3d,\n",
    "                          reduction=0.95, \n",
    "                          smoothing_iteration=0, \n",
    "                          verbose=True)"
   ]
  },
  {
   "cell_type": "markdown",
   "metadata": {},
   "source": [
    "### 2.3 Read & write"
   ]
  },
  {
   "cell_type": "code",
   "execution_count": null,
   "metadata": {
    "collapsed": false
   },
   "outputs": [],
   "source": [
    "from alinea.phenomenal.mesh.formats import (\n",
    "    write_vertices_faces_to_json_file,\n",
    "    read_json_file_to_vertices_faces)\n",
    "\n",
    "# Write\n",
    "write_vertices_faces_to_json_file(vertices, faces, 'mesh.json')\n",
    "\n",
    "# Read\n",
    "vertices, faces = read_json_file_to_vertices_faces('mesh.json')"
   ]
  },
  {
   "cell_type": "markdown",
   "metadata": {},
   "source": [
    "### 2.4 Display it"
   ]
  },
  {
   "cell_type": "code",
   "execution_count": 11,
   "metadata": {
    "collapsed": false
   },
   "outputs": [
    {
     "data": {
      "image/png": "[encoded data removed]",
      "text/plain": [
       "<matplotlib.figure.Figure at 0x1e7f7b00>"
      ]
     },
     "metadata": {},
     "output_type": "display_data"
    }
   ],
   "source": [
    "%matplotlib inline\n",
    "\n",
    "from alinea.phenomenal.display.mesh import show_mesh\n",
    "\n",
    "im = show_mesh(vertices, faces)\n",
    "# Documentation image incrustation\n",
    "\n",
    "show_image(im)"
   ]
  },
  {
   "cell_type": "markdown",
   "metadata": {},
   "source": [
    "### 2.5 Normals of each faces"
   ]
  },
  {
   "cell_type": "code",
   "execution_count": null,
   "metadata": {
    "collapsed": false
   },
   "outputs": [],
   "source": [
    "%matplotlib notebook\n",
    "\n",
    "from alinea.phenomenal.mesh.routines import normals, centers\n",
    "\n",
    "normals = normals(vertices, faces)\n",
    "centers = centers(vertices, faces)\n",
    "\n",
    "# Display it\n",
    "im = show_mesh(vertices, faces, normals=normals, centers=centers)\n",
    "# Documentation image incrustation\n",
    "show_image(im)"
   ]
  },
  {
   "cell_type": "markdown",
   "metadata": {},
   "source": [
    "### 2.6. Surface area estimation"
   ]
  },
  {
   "cell_type": "code",
   "execution_count": null,
   "metadata": {
    "collapsed": false
   },
   "outputs": [],
   "source": [
    "import skimage.measure\n",
    "\n",
    "surface = skimage.measure.mesh_surface_area(vertices, faces)\n",
    "\n",
    "print 'Mesh surface area : ', surface"
   ]
  },
  {
   "cell_type": "markdown",
   "metadata": {},
   "source": [
    "## 3. PlantGL Format\n",
    "\n",
    "### 3.1 Add mesh to PantGL scene and display it"
   ]
  },
  {
   "cell_type": "code",
   "execution_count": null,
   "metadata": {
    "collapsed": false
   },
   "outputs": [],
   "source": [
    "import openalea.plantgl.scenegraph as sg\n",
    "import openalea.plantgl.all as pgl\n",
    "\n",
    "scene = sg.Scene()\n",
    "tset = sg.FaceSet(pointList=vertices, indexList=faces)\n",
    "scene += tset\n",
    "\n",
    "# Display it\n",
    "pgl.Viewer.display(scene)"
   ]
  }
 ],
 "metadata": {
  "anaconda-cloud": {},
  "kernelspec": {
   "display_name": "Python [default]",
   "language": "python",
   "name": "python2"
  },
  "language_info": {
   "codemirror_mode": {
    "name": "ipython",
    "version": 2
   },
   "file_extension": ".py",
   "mimetype": "text/x-python",
   "name": "python",
   "nbconvert_exporter": "python",
   "pygments_lexer": "ipython2",
   "version": "2.7.12"
  }
 },
 "nbformat": 4,
 "nbformat_minor": 0
}
