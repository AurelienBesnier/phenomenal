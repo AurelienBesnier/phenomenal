{
 "cells": [
  {
   "cell_type": "markdown",
   "metadata": {},
   "source": [
    "# Meshing\n",
    "\n",
    "## 1. Prerequisites\n",
    "\n",
    "### 1.1 Load cloud point of voxel centers"
   ]
  },
  {
   "cell_type": "code",
   "execution_count": 1,
   "metadata": {
    "collapsed": false
   },
   "outputs": [],
   "source": [
    "from alinea.phenomenal.data_plants.plant_1 import plant_1_voxel_centers\n",
    "from alinea.phenomenal.display.multi_view_reconstruction import show_points_3d\n",
    "\n",
    "voxel_size = 10\n",
    "voxel_centers = plant_1_voxel_centers(voxel_size=voxel_size)\n",
    "\n",
    "# Display it\n",
    "show_points_3d(voxel_centers)"
   ]
  },
  {
   "cell_type": "code",
   "execution_count": 2,
   "metadata": {
    "collapsed": true
   },
   "outputs": [],
   "source": [
    "from alinea.phenomenal.multi_view_reconstruction.routines import voxel_centers_to_image_3d\n",
    "\n",
    "# Convert voxel_centers to image3D\n",
    "image_3d = voxel_centers_to_image_3d(voxel_centers, voxel_size)"
   ]
  },
  {
   "cell_type": "markdown",
   "metadata": {},
   "source": [
    "## 2. Meshing\n",
    "\n",
    "### 2.1 Do meshing"
   ]
  },
  {
   "cell_type": "code",
   "execution_count": 3,
   "metadata": {
    "collapsed": false
   },
   "outputs": [
    {
     "name": "stdout",
     "output_type": "stream",
     "text": [
      "================================================================\n",
      "Marching cubes :\n",
      "\tIso value : 1.0\n",
      "\n",
      "\tThere are 9410 points.\n",
      "\tThere are 19129 polygons.\n",
      "\n",
      "================================================================\n",
      "================================================================\n",
      "Smoothing :\n",
      "\tFeature angle : 120.0\n",
      "\tNumber of iteration : 2\n",
      "\tPass band : 0.01\n",
      "\n",
      "================================================================\n",
      "================================================================\n",
      "Decimation :\n",
      "\tReduction (percentage) : 0.95\n",
      "\n",
      "\tBefore decimation\n",
      "\t-----------------\n",
      "\tThere are 9410 points.\n",
      "\tThere are 19129 polygons.\n",
      "\n",
      "\tAfter decimation\n",
      "\t-----------------\n",
      "\tThere are 484 points.\n",
      "\tThere are 956 polygons.\n",
      "================================================================\n"
     ]
    }
   ],
   "source": [
    "from alinea.phenomenal.mesh.algorithms import meshing\n",
    "\n",
    "\n",
    "vertices, faces = meshing(image_3d,\n",
    "                          reduction=0.95, \n",
    "                          smoothing_iteration=2, \n",
    "                          verbose=True)"
   ]
  },
  {
   "cell_type": "markdown",
   "metadata": {},
   "source": [
    "### 2.3 Read & write"
   ]
  },
  {
   "cell_type": "code",
   "execution_count": 4,
   "metadata": {
    "collapsed": false
   },
   "outputs": [],
   "source": [
    "from alinea.phenomenal.mesh.formats import (\n",
    "    write_vertices_faces_to_json_file,\n",
    "    read_json_file_to_vertices_faces)\n",
    "\n",
    "# Write\n",
    "write_vertices_faces_to_json_file(vertices, faces, 'mesh.json')\n",
    "\n",
    "# Read\n",
    "vertices, faces = read_json_file_to_vertices_faces('mesh.json')"
   ]
  },
  {
   "cell_type": "markdown",
   "metadata": {},
   "source": [
    "### 2.4 Display it"
   ]
  },
  {
   "cell_type": "code",
   "execution_count": 5,
   "metadata": {
    "collapsed": false
   },
   "outputs": [],
   "source": [
    "from alinea.phenomenal.display.mesh import show_mesh\n",
    "\n",
    "show_mesh(vertices, faces)"
   ]
  },
  {
   "cell_type": "markdown",
   "metadata": {},
   "source": [
    "### 2.5 Normals of each faces"
   ]
  },
  {
   "cell_type": "code",
   "execution_count": 6,
   "metadata": {
    "collapsed": false
   },
   "outputs": [],
   "source": [
    "from alinea.phenomenal.mesh.routines import normals, centers\n",
    "\n",
    "normals = normals(vertices, faces)\n",
    "centers = centers(vertices, faces)\n",
    "\n",
    "# Display it\n",
    "show_mesh(vertices, faces, normals=normals, centers=centers)"
   ]
  },
  {
   "cell_type": "markdown",
   "metadata": {},
   "source": [
    "### 2.6. Surface area estimation"
   ]
  },
  {
   "cell_type": "code",
   "execution_count": 7,
   "metadata": {
    "collapsed": false
   },
   "outputs": [
    {
     "name": "stdout",
     "output_type": "stream",
     "text": [
      "Mesh surface area :  880873.046613\n"
     ]
    }
   ],
   "source": [
    "import skimage.measure\n",
    "\n",
    "surface = skimage.measure.mesh_surface_area(vertices, faces)\n",
    "\n",
    "print 'Mesh surface area : ', surface"
   ]
  },
  {
   "cell_type": "markdown",
   "metadata": {},
   "source": [
    "## 3. PlantGL Format\n",
    "\n",
    "### 3.1 Add mesh to PantGL scene and display it"
   ]
  },
  {
   "cell_type": "code",
   "execution_count": 7,
   "metadata": {
    "collapsed": false
   },
   "outputs": [],
   "source": [
    "import openalea.plantgl.scenegraph as sg\n",
    "import openalea.plantgl.all as pgl\n",
    "\n",
    "scene = sg.Scene()\n",
    "tset = sg.FaceSet(pointList=vertices, indexList=faces)\n",
    "scene += tset\n",
    "\n",
    "# Display it\n",
    "pgl.Viewer.display(scene)"
   ]
  }
 ],
 "metadata": {
  "kernelspec": {
   "display_name": "Python 2",
   "language": "python",
   "name": "python2"
  },
  "language_info": {
   "codemirror_mode": {
    "name": "ipython",
    "version": 2
   },
   "file_extension": ".py",
   "mimetype": "text/x-python",
   "name": "python",
   "nbconvert_exporter": "python",
   "pygments_lexer": "ipython2",
   "version": "2.7.11"
  }
 },
 "nbformat": 4,
 "nbformat_minor": 0
}
