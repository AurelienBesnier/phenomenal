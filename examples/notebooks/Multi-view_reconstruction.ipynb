{
 "cells": [
  {
   "cell_type": "markdown",
   "metadata": {},
   "source": [
    "# Multi-view reconstruction\n",
    "\n",
    "## 1. Prerequisites\n",
    "\n",
    "### 1.1 Load data"
   ]
  },
  {
   "cell_type": "code",
   "execution_count": 1,
   "metadata": {
    "collapsed": false
   },
   "outputs": [],
   "source": [
    "from alinea.phenomenal.data_access.plant_1 import (\n",
    "    plant_1_images_binarize,\n",
    "    plant_1_calibration_camera_side,\n",
    "    plant_1_calibration_camera_top)\n",
    "\n",
    "images = plant_1_images_binarize()\n",
    "calibration_side = plant_1_calibration_camera_side()\n",
    "calibration_top = plant_1_calibration_camera_top()"
   ]
  },
  {
   "cell_type": "markdown",
   "metadata": {},
   "source": [
    "## 2. Multi-view reconstruction\n",
    "\n",
    "### 2.1 Associate images and projection function"
   ]
  },
  {
   "cell_type": "code",
   "execution_count": 9,
   "metadata": {
    "collapsed": false
   },
   "outputs": [],
   "source": [
    "from alinea.phenomenal.data_structure import ImageView\n",
    "\n",
    "refs_angle_list = [120]\n",
    "\n",
    "# Select images\n",
    "image_views = list()\n",
    "for angle in range(0, 360, 30):\n",
    "    projection = calibration_side.get_arr_projection(angle)\n",
    "    \n",
    "    ref = False\n",
    "    if angle in refs_angle_list:\n",
    "        ref = True\n",
    "    \n",
    "    image_views.append(ImageView(images[angle], projection, inclusive=False, ref=ref))\n",
    "\n",
    "projection = calibration_top.get_arr_projection(0)\n",
    "image_views.append(ImageView(images[-1], projection, inclusive=True))"
   ]
  },
  {
   "cell_type": "markdown",
   "metadata": {},
   "source": [
    "### 2.2 Do multi-view reconstruction"
   ]
  },
  {
   "cell_type": "code",
   "execution_count": 10,
   "metadata": {
    "collapsed": false
   },
   "outputs": [
    {
     "name": "stdout",
     "output_type": "stream",
     "text": [
      "Iteration 1 / 9 : 8\n",
      "Iteration 2 / 9 : 64\n",
      "Iteration 3 / 9 : 512\n",
      "Iteration 4 / 9 : 4096\n",
      "Iteration 5 / 9 : 400\n",
      "Iteration 6 / 9 : 1400\n",
      "Iteration 7 / 9 : 4216\n",
      "Iteration 8 / 9 : 13392\n",
      "Iteration 9 / 9 : 53104\n"
     ]
    }
   ],
   "source": [
    "from alinea.phenomenal.data_structure import VoxelPointCloud\n",
    "from alinea.phenomenal.multi_view_reconstruction import reconstruction_3d\n",
    "\n",
    "voxels_size = 8\n",
    "error_tolerance = 1\n",
    "\n",
    "voxels_position = reconstruction_3d(image_views, \n",
    "                                    voxels_size=voxels_size, \n",
    "                                    error_tolerance=error_tolerance, \n",
    "                                    verbose=True)\n",
    "\n",
    "vpc = VoxelPointCloud(voxels_position, voxels_size)"
   ]
  },
  {
   "cell_type": "markdown",
   "metadata": {},
   "source": [
    "### 2.4 Viewing"
   ]
  },
  {
   "cell_type": "code",
   "execution_count": 11,
   "metadata": {
    "collapsed": false
   },
   "outputs": [],
   "source": [
    "%matplotlib notebook\n",
    "\n",
    "from alinea.phenomenal.display import show_voxel_point_cloud\n",
    "\n",
    "show_voxel_point_cloud(vpc,\n",
    "            # size=(5000, 5000),\n",
    "            color=(0.1, 0.9, 0.1),\n",
    "            azimuth=310,\n",
    "            distance=3000,\n",
    "            elevation=90,\n",
    "            focalpoint=(0, 0, 0))"
   ]
  },
  {
   "cell_type": "markdown",
   "metadata": {},
   "source": [
    "# 3.Meshing"
   ]
  },
  {
   "cell_type": "code",
   "execution_count": 6,
   "metadata": {
    "collapsed": true
   },
   "outputs": [],
   "source": [
    "from alinea.phenomenal.mesh import meshing\n",
    "from alinea.phenomenal.display import (\n",
    "    show_voxel_point_cloud,\n",
    "    show_mesh)"
   ]
  },
  {
   "cell_type": "code",
   "execution_count": 7,
   "metadata": {
    "collapsed": false
   },
   "outputs": [
    {
     "name": "stdout",
     "output_type": "stream",
     "text": [
      "================================================================\n",
      "Marching cubes :\n",
      "\tIso value : 1.0\n",
      "\n",
      "\tThere are 16424 points.\n",
      "\tThere are 33177 polygons.\n",
      "\n",
      "================================================================\n",
      "================================================================\n",
      "Smoothing :\n",
      "\tFeature angle : 120.0\n",
      "\tNumber of iteration : 10\n",
      "\tPass band : 0.01\n",
      "\n",
      "================================================================\n",
      "Number of vertices : 16424\n",
      "Number of faces : 33177\n"
     ]
    }
   ],
   "source": [
    "show_voxel_point_cloud(vpc,\n",
    "                       # size=(5000, 5000),\n",
    "                       color=(0.1, 0.9, 0.1),\n",
    "                       azimuth=310,\n",
    "                       distance=3000,\n",
    "                       elevation=90,\n",
    "                       focalpoint=(0, 0, 0))\n",
    "\n",
    "image_3d = vpc.to_image_3d()\n",
    "\n",
    "vertices, faces = meshing(image_3d,\n",
    "                          reduction=1,\n",
    "                          smoothing_iteration=10,\n",
    "                          verbose=True)\n",
    "\n",
    "print(\"Number of vertices : {nb_vertices}\".format(nb_vertices=len(vertices)))\n",
    "print(\"Number of faces : {nb_faces}\".format(nb_faces=len(faces)))\n",
    "\n",
    "show_mesh(vertices, faces, \n",
    "          representation=\"surface\",\n",
    "          # size=(5000, 5000),\n",
    "          color=(0.1, 0.9, 0.1),\n",
    "          azimuth=120,\n",
    "          distance=3000,\n",
    "          elevation=90,\n",
    "          focalpoint=(0, 0, 0))"
   ]
  },
  {
   "cell_type": "code",
   "execution_count": null,
   "metadata": {
    "collapsed": true
   },
   "outputs": [],
   "source": [
    ""
   ]
  }
 ],
 "metadata": {
  "anaconda-cloud": {},
  "kernelspec": {
   "display_name": "Python [default]",
   "language": "python",
   "name": "python2"
  },
  "language_info": {
   "codemirror_mode": {
    "name": "ipython",
    "version": 2.0
   },
   "file_extension": ".py",
   "mimetype": "text/x-python",
   "name": "python",
   "nbconvert_exporter": "python",
   "pygments_lexer": "ipython2",
   "version": "2.7.12"
  }
 },
 "nbformat": 4,
 "nbformat_minor": 0
}