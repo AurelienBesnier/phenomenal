{
 "cells": [
  {
   "cell_type": "markdown",
   "metadata": {},
   "source": [
    "# Calibration\n",
    "\n",
    "## 1. Prerequisites\n",
    "\n",
    "### 1.1 Chessboard object\n",
    "\n",
    "See Chessboard notebook to create one chessboard object if he don't exist or load existing file with :"
   ]
  },
  {
   "cell_type": "code",
   "execution_count": 1,
   "metadata": {
    "collapsed": false
   },
   "outputs": [
    {
     "name": "stdout",
     "output_type": "stream",
     "text": [
      "NOT using graph editor observer No module named grapheditor\n"
     ]
    }
   ],
   "source": [
    "from alinea.phenomenal.data_access.plant_1 import plant_1_chessboards\n",
    "\n",
    "# Load chessboard object\n",
    "chess_1, chess_2 = plant_1_chessboards()"
   ]
  },
  {
   "cell_type": "markdown",
   "metadata": {},
   "source": [
    "## 2. Calibrate\n",
    "\n",
    "### 2.1 Do calibration"
   ]
  },
  {
   "cell_type": "code",
   "execution_count": null,
   "metadata": {
    "collapsed": false
   },
   "outputs": [],
   "source": [
    "from alinea.phenomenal.calibration import (\n",
    "    CalibrationCameraSideWith2TargetYXZ)\n",
    "\n",
    "# Define size image of image chessboard to calibrate\n",
    "size_image = (2056, 2454)\n",
    "\n",
    "# Calibrate\n",
    "id_camera = \"side\"\n",
    "calibration = CalibrationCameraSideWith2TargetYXZ()\n",
    "err = calibration.calibrate(chess_1.get_corners_2d(id_camera), \n",
    "                            chess_1.get_corners_local_3d(),\n",
    "                            chess_2.get_corners_2d(id_camera), \n",
    "                            chess_2.get_corners_local_3d(),\n",
    "                            size_image,\n",
    "                            number_of_repetition=5)\n",
    "\n",
    "print err"
   ]
  },
  {
   "cell_type": "markdown",
   "metadata": {},
   "source": [
    "### 2.2 Dump & load"
   ]
  },
  {
   "cell_type": "code",
   "execution_count": null,
   "metadata": {
    "collapsed": false
   },
   "outputs": [],
   "source": [
    "# Dump\n",
    "calibration.dump('calibration_camera_side')"
   ]
  },
  {
   "cell_type": "code",
   "execution_count": 31,
   "metadata": {
    "collapsed": false
   },
   "outputs": [],
   "source": [
    "from alinea.phenomenal.calibration.calibration import CalibrationCameraSideWith2Target\n",
    "\n",
    "# Load \n",
    "calibration = CalibrationCameraSideWith2Target.load('calibration_camera_side')"
   ]
  },
  {
   "cell_type": "markdown",
   "metadata": {},
   "source": [
    "### 2.6 Viewing calibration result\n",
    "\n",
    "#### 2.6.1 Download dataset examples\n",
    "\n",
    "Download the chessboard image dataset [here](https://gforge.inria.fr/frs/download.php/file/35019/CHESSBOARD_PhenoArch_2013_sv_face1.zip) and extract it. Indicate the path in **data_path_directory** variable below. "
   ]
  },
  {
   "cell_type": "code",
   "execution_count": 4,
   "metadata": {
    "collapsed": true
   },
   "outputs": [],
   "source": [
    "data_path_directory = './CHESSBOARD_PhenoArch_2013_sv_face1/'"
   ]
  },
  {
   "cell_type": "markdown",
   "metadata": {},
   "source": [
    "#### 2.6.1 Load path file from chessboard image dataset"
   ]
  },
  {
   "cell_type": "code",
   "execution_count": 5,
   "metadata": {
    "collapsed": false
   },
   "outputs": [],
   "source": [
    "import glob\n",
    "\n",
    "# Load path files from directory\n",
    "files_path = glob.glob(data_path_directory + '*.png')\n",
    "\n",
    "# Extract angles from path files\n",
    "angles = map(lambda x: int((x.split('_sv')[-1]).split('.png')[0]), files_path)\n",
    "\n",
    "images_path = dict()\n",
    "for i in range(len(files_path)):\n",
    "    images_path[angles[i]] = files_path[i]"
   ]
  },
  {
   "cell_type": "markdown",
   "metadata": {},
   "source": [
    "#### 2.6.2 Show chessboard image with corners projection"
   ]
  },
  {
   "cell_type": "code",
   "execution_count": 52,
   "metadata": {
    "collapsed": false
   },
   "outputs": [
    {
     "data": {
      "text/plain": [
       "True"
      ]
     },
     "execution_count": 52,
     "metadata": {},
     "output_type": "execute_result"
    }
   ],
   "source": [
    "%matplotlib notebook\n",
    "\n",
    "import matplotlib.pyplot\n",
    "\n",
    "import cv2\n",
    "# from alinea.phenomenal.display.image import \n",
    "\n",
    "angle = 69\n",
    "img = cv2.imread(images_path[angle], cv2.IMREAD_UNCHANGED)\n",
    "img = cv2.cvtColor(img, cv2.COLOR_BGR2RGB)\n",
    "\n",
    "k = 3\n",
    "\n",
    "# RED POINTS ARE POINTS POSITIONS DETECTED BY OPENCV CHESSBOARD DETECTION \n",
    "pt_2d = chess_1.image_points[\"side\"][angle].astype(int)\n",
    "\n",
    "for x, y in zip(pt_2d[:, 0, 1], pt_2d[:, 0, 0]):\n",
    "     img[x-k:x+k, y-k:y+k] = [255, 0, 0]\n",
    "\n",
    "calibration = CalibrationCameraSideWith2Target.load('calibration_camera_side')\n",
    "calibration._cam_pos_x = calibration._cam_pos_x - 200\n",
    "calibration._cam_pos_y = calibration._cam_pos_y - 10\n",
    "calibration._cam_rot_y = calibration._cam_rot_y + 0.05\n",
    "\n",
    "# BLUE POINTS ARE POINTS POSITIONS PROJECTED BY CALIBRATION CHESSBOARD COMPUTATION\n",
    "points_2d = calibration.get_target_1_projected(angle, chess_1.get_corners_local_3d())\n",
    "\n",
    "\n",
    "for x, y in points_2d:\n",
    "    x = int(x)\n",
    "    y = int(y)\n",
    "    \n",
    "    img[y-k:y+k, x-k:x+k] = [0, 0, 255]\n",
    "\n",
    "# matplotlib.pyplot.figure()\n",
    "# matplotlib.pyplot.imshow(img)\n",
    "\n",
    "img = cv2.cvtColor(img, cv2.COLOR_RGB2BGR)\n",
    "cv2.imwrite('calib_2.png', img)"
   ]
  },
  {
   "cell_type": "code",
   "execution_count": null,
   "metadata": {
    "collapsed": false
   },
   "outputs": [],
   "source": []
  }
 ],
 "metadata": {
  "kernelspec": {
   "display_name": "Python [default]",
   "language": "python",
   "name": "python2"
  },
  "language_info": {
   "codemirror_mode": {
    "name": "ipython",
    "version": 2
   },
   "file_extension": ".py",
   "mimetype": "text/x-python",
   "name": "python",
   "nbconvert_exporter": "python",
   "pygments_lexer": "ipython2",
   "version": "2.7.12"
  }
 },
 "nbformat": 4,
 "nbformat_minor": 0
}
