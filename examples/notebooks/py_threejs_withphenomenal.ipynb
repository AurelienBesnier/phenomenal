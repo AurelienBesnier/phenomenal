{
 "cells": [
  {
   "cell_type": "markdown",
   "metadata": {},
   "source": [
    "# I. Display : Voxel Centers\n",
    "\n",
    "## I.1 Load phenomenal data"
   ]
  },
  {
   "cell_type": "code",
   "execution_count": 4,
   "metadata": {
    "collapsed": false
   },
   "outputs": [],
   "source": [
    "from alinea.phenomenal.data_access import plant_1_voxel_point_cloud\n",
    "\n",
    "voxel_size = 4\n",
    "vpc = plant_1_voxel_point_cloud(voxel_size)"
   ]
  },
  {
   "cell_type": "markdown",
   "metadata": {},
   "source": [
    "## I.2 Import for pythreejs display"
   ]
  },
  {
   "cell_type": "code",
   "execution_count": 5,
   "metadata": {
    "collapsed": true
   },
   "outputs": [],
   "source": [
    "from pythreejs import *\n",
    "import numpy as np\n",
    "from IPython.display import display\n",
    "from ipywidgets import HTML, Text\n",
    "from traitlets import link, dlink\n",
    "from itertools import chain"
   ]
  },
  {
   "cell_type": "markdown",
   "metadata": {},
   "source": [
    "## I.3 Transform data format"
   ]
  },
  {
   "cell_type": "code",
   "execution_count": 6,
   "metadata": {
    "collapsed": false
   },
   "outputs": [],
   "source": [
    "# Transform to vertices display format\n",
    "vertices = list(chain.from_iterable(vpc.voxels_position)) "
   ]
  },
  {
   "cell_type": "markdown",
   "metadata": {},
   "source": [
    "## I.4 Integrate 3D notebook display"
   ]
  },
  {
   "cell_type": "code",
   "execution_count": 7,
   "metadata": {
    "collapsed": false
   },
   "outputs": [],
   "source": [
    "# Define points \n",
    "geometry = BufferGeometry(vertices=vertices)\n",
    "# Define colors and size points\n",
    "material = PointsMaterial(size=voxel_size, color='green')\n",
    "\n",
    "points = Points(geometry=geometry, material=material)\n",
    "\n",
    "scene = Scene(children=[points, AmbientLight(color='#788777')])\n",
    "\n",
    "children = DirectionalLight(color='white', \n",
    "                            position=[0, 1000, 0], \n",
    "                            intensity=0.4)\n",
    "\n",
    "camera = PerspectiveCamera(position=[-2000, 0, 0], \n",
    "                           up=[0, 0, 1], \n",
    "                           children=[children])\n",
    "\n",
    "# Define how far camera can view geometry in the scene\n",
    "camera.far = 8000\n",
    "\n",
    "controls = OrbitControls(controlling=camera)\n",
    "renderer = Renderer(camera=camera, \n",
    "                    scene=scene, \n",
    "                    controls=[controls])\n",
    "\n",
    "# Define size of window renderer\n",
    "renderer.width = \"800\"\n",
    "renderer.height = \"600\"\n",
    "# Define background color and opacity of window renderer\n",
    "renderer.background_color = \"black\"\n",
    "renderer.background_opacity = 0.5\n",
    "\n",
    "# launch display\n",
    "display(renderer)"
   ]
  },
  {
   "cell_type": "markdown",
   "metadata": {},
   "source": [
    "# II. Display Mesh\n",
    "\n",
    "## II.1 Load phenomenal data"
   ]
  },
  {
   "cell_type": "code",
   "execution_count": 8,
   "metadata": {
    "collapsed": false
   },
   "outputs": [
    {
     "name": "stdout",
     "output_type": "stream",
     "text": [
      "================================================================\n",
      "Marching cubes :\n",
      "\tIso value : 1.0\n",
      "\n",
      "\tThere are 53611 points.\n",
      "\tThere are 107980 polygons.\n",
      "\n",
      "================================================================\n",
      "================================================================\n",
      "Smoothing :\n",
      "\tFeature angle : 120.0\n",
      "\tNumber of iteration : 10\n",
      "\tPass band : 0.01\n",
      "\n",
      "================================================================\n",
      "Number of vertices : 53611\n",
      "Number of faces : 107980\n"
     ]
    }
   ],
   "source": [
    "from alinea.phenomenal.mesh import meshing\n",
    "\n",
    "image_3d = vpc.to_image_3d()\n",
    "\n",
    "vertices, faces = meshing(image_3d,\n",
    "                          reduction=1,\n",
    "                          smoothing_iteration=10,\n",
    "                          verbose=True)\n",
    "\n",
    "print(\"Number of vertices : {nb_vertices}\".format(nb_vertices=len(vertices)))\n",
    "print(\"Number of faces : {nb_faces}\".format(nb_faces=len(faces)))"
   ]
  },
  {
   "cell_type": "markdown",
   "metadata": {},
   "source": [
    "## II.2 Transform data format"
   ]
  },
  {
   "cell_type": "code",
   "execution_count": 9,
   "metadata": {
    "collapsed": true
   },
   "outputs": [],
   "source": [
    "vert = list()\n",
    "for index_1, index_2, index_3 in faces:\n",
    "    vert.append(vertices[index_1])\n",
    "    vert.append(vertices[index_2])\n",
    "    vert.append(vertices[index_3])\n",
    "\n",
    "vert = list(chain.from_iterable(vert))"
   ]
  },
  {
   "cell_type": "markdown",
   "metadata": {},
   "source": [
    "## II.3 Integrate 3D notebook display"
   ]
  },
  {
   "cell_type": "code",
   "execution_count": 10,
   "metadata": {
    "collapsed": false
   },
   "outputs": [],
   "source": [
    "geometry = BufferGeometry(vertices=vert)\n",
    "material = PointsMaterial(size=voxel_size, color='yellow')\n",
    "material = NormalMaterial()\n",
    "#material = LambertMaterial()\n",
    "points = Mesh(geometry=geometry, material=material)\n",
    "\n",
    "scene = Scene(children=[points, AmbientLight(color='#788777')])\n",
    "children = DirectionalLight(color='white', position=[0, 1000, 0], intensity=0.4)\n",
    "camera = PerspectiveCamera(position=[-2000, 0, 0], \n",
    "                           up=[0, 0, 1],\n",
    "                           children=[children])\n",
    "camera.far = 8000\n",
    "\n",
    "controls = OrbitControls(controlling=camera)\n",
    "renderer = Renderer(camera=camera, scene=scene, controls=[controls])\n",
    "renderer.width = \"800\"\n",
    "renderer.height = \"600\"\n",
    "renderer.background_color = \"black\"\n",
    "renderer.background_opacity = 0.2\n",
    "\n",
    "display(renderer)"
   ]
  },
  {
   "cell_type": "code",
   "execution_count": 11,
   "metadata": {
    "collapsed": false
   },
   "outputs": [],
   "source": [
    "material.wireframe=True\n",
    "#material.color = 'green'\n",
    "\n",
    "material.fog = True\n",
    "renderer.fog = True"
   ]
  },
  {
   "cell_type": "code",
   "execution_count": null,
   "metadata": {
    "collapsed": false
   },
   "outputs": [],
   "source": [
    "\n"
   ]
  },
  {
   "cell_type": "code",
   "execution_count": null,
   "metadata": {
    "collapsed": true
   },
   "outputs": [],
   "source": []
  }
 ],
 "metadata": {
  "anaconda-cloud": {},
  "kernelspec": {
   "display_name": "Python [default]",
   "language": "python",
   "name": "python2"
  },
  "language_info": {
   "codemirror_mode": {
    "name": "ipython",
    "version": 2
   },
   "file_extension": ".py",
   "mimetype": "text/x-python",
   "name": "python",
   "nbconvert_exporter": "python",
   "pygments_lexer": "ipython2",
   "version": "2.7.12"
  },
  "widgets": {
   "state": {
    "6f28ba9ab44e4695b30779c289bdbc3d": {
     "views": [
      {
       "cell_index": 13
      }
     ]
    },
    "dba682748a9b495e91b448eb27edff41": {
     "views": [
      {
       "cell_index": 7
      }
     ]
    }
   },
   "version": "1.2.0"
  }
 },
 "nbformat": 4,
 "nbformat_minor": 1
}
