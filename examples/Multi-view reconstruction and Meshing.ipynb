{
 "cells": [
  {
   "cell_type": "markdown",
   "metadata": {},
   "source": [
    "# Multi-view reconstruction and Meshing\n",
    "\n",
    "## 0. Import"
   ]
  },
  {
   "cell_type": "code",
   "execution_count": 1,
   "metadata": {},
   "outputs": [],
   "source": [
    "%matplotlib inline\n",
    "\n",
    "import cv2\n",
    "\n",
    "import openalea.phenomenal.data as phm_data \n",
    "import openalea.phenomenal.display as phm_display\n",
    "import openalea.phenomenal.object as phm_obj\n",
    "import openalea.phenomenal.multi_view_reconstruction as phm_mvr\n",
    "import openalea.phenomenal.mesh as phm_mesh\n",
    "import openalea.phenomenal.display.notebook as phm_display_notebook"
   ]
  },
  {
   "cell_type": "markdown",
   "metadata": {},
   "source": [
    "## 1. Prerequisites\n",
    "\n",
    "### 1.1 Load data"
   ]
  },
  {
   "cell_type": "code",
   "execution_count": 3,
   "metadata": {},
   "outputs": [
    {
     "data": {
      "image/png": "[encoded data removed]",
      "text/plain": [
       "<Figure size 432x288 with 13 Axes>"
      ]
     },
     "metadata": {
      "needs_background": "light"
     },
     "output_type": "display_data"
    }
   ],
   "source": [
    "plant_number = 2 # Available : 1, 2, 3, 4 or 5\n",
    "bin_images = phm_data.bin_images(plant_number=plant_number)\n",
    "calibrations = phm_data.calibrations(plant_number=plant_number)\n",
    "\n",
    "phm_display.show_images(list(bin_images['side'].values()) + \n",
    "                        list(bin_images['top'].values()))"
   ]
  },
  {
   "cell_type": "markdown",
   "metadata": {},
   "source": [
    "## 2. Multi-view reconstruction\n",
    "\n",
    "### 2.1 Associate images and projection function"
   ]
  },
  {
   "cell_type": "code",
   "execution_count": 4,
   "metadata": {},
   "outputs": [],
   "source": [
    "def routine_select_ref_angle(bin_side_images):\n",
    "\n",
    "    max_len = 0\n",
    "    max_angle = None\n",
    "    \n",
    "    for angle in bin_side_images:\n",
    "    \n",
    "        x_pos, y_pos, x_len, y_len = cv2.boundingRect(cv2.findNonZero(bin_side_images[angle]))\n",
    "\n",
    "        if x_len > max_len:\n",
    "            max_len = x_len\n",
    "            max_angle = angle\n",
    "\n",
    "    return max_angle"
   ]
  },
  {
   "cell_type": "code",
   "execution_count": 5,
   "metadata": {},
   "outputs": [],
   "source": [
    "refs_angle_list = [routine_select_ref_angle(bin_images[\"side\"])]\n",
    "\n",
    "image_views = list()\n",
    "for id_camera in bin_images:\n",
    "    for angle in bin_images[id_camera]:\n",
    "        projection = calibrations[id_camera].get_projection(angle)\n",
    "    \n",
    "        image_ref = None\n",
    "        if id_camera == \"side\" and angle in refs_angle_list:\n",
    "            image_ref = bin_images[id_camera][angle]\n",
    "        \n",
    "        inclusive = False\n",
    "        if id_camera == \"top\":\n",
    "            inclusive = True\n",
    "            \n",
    "        image_views.append(phm_obj.ImageView(\n",
    "            bin_images[id_camera][angle], \n",
    "            projection, \n",
    "            inclusive=inclusive, \n",
    "            image_ref=image_ref))"
   ]
  },
  {
   "cell_type": "markdown",
   "metadata": {},
   "source": [
    "### 2.2 Do multi-view reconstruction"
   ]
  },
  {
   "cell_type": "code",
   "execution_count": 6,
   "metadata": {},
   "outputs": [
    {
     "name": "stderr",
     "output_type": "stream",
     "text": [
      "/home/artzet_s/code/phenomenal/src/openalea/phenomenal/multi_view_reconstruction/multi_view_reconstruction.py:544: NumbaWarning: \n",
      "Compilation is falling back to object mode WITH looplifting enabled because Function \"get_integrale_image\" failed type inference due to: Invalid use of Function(<function zeros_like at 0x7f2e4c0b3680>) with argument(s) of type(s): (array(uint8, 2d, C), dtype=Function(<class 'int'>))\n",
      " * parameterized\n",
      "In definition 0:\n",
      "    All templates rejected with literals.\n",
      "In definition 1:\n",
      "    All templates rejected without literals.\n",
      "This error is usually caused by passing an argument of a type that is unsupported by the named function.\n",
      "[1] During: resolving callee type: Function(<function zeros_like at 0x7f2e4c0b3680>)\n",
      "[2] During: typing of call at /home/artzet_s/code/phenomenal/src/openalea/phenomenal/multi_view_reconstruction/multi_view_reconstruction.py (546)\n",
      "\n",
      "\n",
      "File \"../src/openalea/phenomenal/multi_view_reconstruction/multi_view_reconstruction.py\", line 546:\n",
      "def get_integrale_image(img):\n",
      "    a = numpy.zeros_like(img, dtype=int)\n",
      "    ^\n",
      "\n",
      "  @numba.jit()\n",
      "/home/artzet_s/code/phenomenal/src/openalea/phenomenal/multi_view_reconstruction/multi_view_reconstruction.py:544: NumbaWarning: \n",
      "Compilation is falling back to object mode WITHOUT looplifting enabled because Function \"get_integrale_image\" failed type inference due to: cannot determine Numba type of <class 'numba.dispatcher.LiftedLoop'>\n",
      "\n",
      "File \"../src/openalea/phenomenal/multi_view_reconstruction/multi_view_reconstruction.py\", line 547:\n",
      "def get_integrale_image(img):\n",
      "    <source elided>\n",
      "    a = numpy.zeros_like(img, dtype=int)\n",
      "    for y, x in numpy.ndindex(a.shape):\n",
      "    ^\n",
      "\n",
      "  @numba.jit()\n",
      "/home/artzet_s/miniconda3/envs/phenomenal3/lib/python3.7/site-packages/numba/object_mode_passes.py:178: NumbaWarning: Function \"get_integrale_image\" was compiled in object mode without forceobj=True, but has lifted loops.\n",
      "\n",
      "File \"../src/openalea/phenomenal/multi_view_reconstruction/multi_view_reconstruction.py\", line 545:\n",
      "@numba.jit()\n",
      "def get_integrale_image(img):\n",
      "^\n",
      "\n",
      "  state.func_ir.loc))\n",
      "/home/artzet_s/miniconda3/envs/phenomenal3/lib/python3.7/site-packages/numba/object_mode_passes.py:187: NumbaDeprecationWarning: \n",
      "Fall-back from the nopython compilation path to the object mode compilation path has been detected, this is deprecated behaviour.\n",
      "\n",
      "For more information visit http://numba.pydata.org/numba-doc/latest/reference/deprecation.html#deprecation-of-object-mode-fall-back-behaviour-when-using-jit\n",
      "\n",
      "File \"../src/openalea/phenomenal/multi_view_reconstruction/multi_view_reconstruction.py\", line 545:\n",
      "@numba.jit()\n",
      "def get_integrale_image(img):\n",
      "^\n",
      "\n",
      "  warnings.warn(errors.NumbaDeprecationWarning(msg, state.func_ir.loc))\n",
      "/home/artzet_s/code/phenomenal/src/openalea/phenomenal/multi_view_reconstruction/multi_view_reconstruction.py:480: FutureWarning: arrays to stack must be passed as a \"sequence\" type such as list or tuple. Support for non-sequence iterables such as generators is deprecated as of NumPy 1.16 and will raise an error in the future.\n",
      "  position = numpy.vstack(set(tuple(row) for row in position))\n",
      "/home/artzet_s/code/phenomenal/src/openalea/phenomenal/multi_view_reconstruction/multi_view_reconstruction.py:518: FutureWarning: arrays to stack must be passed as a \"sequence\" type such as list or tuple. Support for non-sequence iterables such as generators is deprecated as of NumPy 1.16 and will raise an error in the future.\n",
      "  position = numpy.vstack(set(tuple(row) for row in position))\n",
      "/home/artzet_s/code/phenomenal/src/openalea/phenomenal/multi_view_reconstruction/multi_view_reconstruction.py:480: FutureWarning: arrays to stack must be passed as a \"sequence\" type such as list or tuple. Support for non-sequence iterables such as generators is deprecated as of NumPy 1.16 and will raise an error in the future.\n",
      "  position = numpy.vstack(set(tuple(row) for row in position))\n",
      "/home/artzet_s/code/phenomenal/src/openalea/phenomenal/multi_view_reconstruction/multi_view_reconstruction.py:518: FutureWarning: arrays to stack must be passed as a \"sequence\" type such as list or tuple. Support for non-sequence iterables such as generators is deprecated as of NumPy 1.16 and will raise an error in the future.\n",
      "  position = numpy.vstack(set(tuple(row) for row in position))\n",
      "/home/artzet_s/code/phenomenal/src/openalea/phenomenal/multi_view_reconstruction/multi_view_reconstruction.py:480: FutureWarning: arrays to stack must be passed as a \"sequence\" type such as list or tuple. Support for non-sequence iterables such as generators is deprecated as of NumPy 1.16 and will raise an error in the future.\n",
      "  position = numpy.vstack(set(tuple(row) for row in position))\n",
      "/home/artzet_s/code/phenomenal/src/openalea/phenomenal/multi_view_reconstruction/multi_view_reconstruction.py:518: FutureWarning: arrays to stack must be passed as a \"sequence\" type such as list or tuple. Support for non-sequence iterables such as generators is deprecated as of NumPy 1.16 and will raise an error in the future.\n",
      "  position = numpy.vstack(set(tuple(row) for row in position))\n",
      "/home/artzet_s/code/phenomenal/src/openalea/phenomenal/multi_view_reconstruction/multi_view_reconstruction.py:480: FutureWarning: arrays to stack must be passed as a \"sequence\" type such as list or tuple. Support for non-sequence iterables such as generators is deprecated as of NumPy 1.16 and will raise an error in the future.\n",
      "  position = numpy.vstack(set(tuple(row) for row in position))\n",
      "/home/artzet_s/code/phenomenal/src/openalea/phenomenal/multi_view_reconstruction/multi_view_reconstruction.py:518: FutureWarning: arrays to stack must be passed as a \"sequence\" type such as list or tuple. Support for non-sequence iterables such as generators is deprecated as of NumPy 1.16 and will raise an error in the future.\n",
      "  position = numpy.vstack(set(tuple(row) for row in position))\n",
      "/home/artzet_s/code/phenomenal/src/openalea/phenomenal/multi_view_reconstruction/multi_view_reconstruction.py:480: FutureWarning: arrays to stack must be passed as a \"sequence\" type such as list or tuple. Support for non-sequence iterables such as generators is deprecated as of NumPy 1.16 and will raise an error in the future.\n",
      "  position = numpy.vstack(set(tuple(row) for row in position))\n",
      "/home/artzet_s/code/phenomenal/src/openalea/phenomenal/multi_view_reconstruction/multi_view_reconstruction.py:535: FutureWarning: arrays to stack must be passed as a \"sequence\" type such as list or tuple. Support for non-sequence iterables such as generators is deprecated as of NumPy 1.16 and will raise an error in the future.\n",
      "  set(tuple(row) for row in voxels_position))\n"
     ]
    }
   ],
   "source": [
    "voxels_size = 16 # mm\n",
    "error_tolerance = 0\n",
    "voxel_grid = phm_mvr.reconstruction_3d(image_views, \n",
    "                                       voxels_size=voxels_size,\n",
    "                                       error_tolerance=error_tolerance)"
   ]
  },
  {
   "cell_type": "markdown",
   "metadata": {},
   "source": [
    "### 2.4 Save / Load voxel grid"
   ]
  },
  {
   "cell_type": "code",
   "execution_count": 7,
   "metadata": {},
   "outputs": [],
   "source": [
    "voxel_grid.write(\"plant_{}_size_{}.npz\".format(plant_number, voxels_size))"
   ]
  },
  {
   "cell_type": "code",
   "execution_count": 8,
   "metadata": {},
   "outputs": [],
   "source": [
    "voxel_grid = phm_obj.VoxelGrid.read(\"plant_{}_size_{}.npz\".format(plant_number, voxels_size))"
   ]
  },
  {
   "cell_type": "markdown",
   "metadata": {},
   "source": [
    "### 2.5 Viewing"
   ]
  },
  {
   "cell_type": "code",
   "execution_count": 9,
   "metadata": {},
   "outputs": [
    {
     "data": {
      "application/vnd.jupyter.widget-view+json": {
       "model_id": "6c282cf444ba493eb028ca0780fbb22c",
       "version_major": 2,
       "version_minor": 0
      },
      "text/plain": [
       "VBox(children=(Figure(camera=PerspectiveCamera(fov=46.0, position=(0.0, 2.0, 1.2246467991473532e-16), quaterni…"
      ]
     },
     "metadata": {},
     "output_type": "display_data"
    }
   ],
   "source": [
    "phm_display_notebook.show_voxel_grid(voxel_grid, size=1)"
   ]
  },
  {
   "cell_type": "markdown",
   "metadata": {},
   "source": [
    "# 3.Meshing"
   ]
  },
  {
   "cell_type": "code",
   "execution_count": 10,
   "metadata": {},
   "outputs": [
    {
     "name": "stdout",
     "output_type": "stream",
     "text": [
      "================================================================================\n",
      "Marching cubes : \n",
      "\tIso value :0.5\n",
      "\n",
      "\tThere are 10122 points.\n",
      "\tThere are 20116 polygons.\n",
      "================================================================================\n",
      "================================================================================\n",
      "Smoothing : \n",
      "\tFeature angle :120.0\n",
      "\tNumber of iteration :5\n",
      "\tPass band : 0.01\n",
      "\n",
      "================================================================================\n",
      "================================================================================\n",
      "Decimation : \n",
      "\tReduction (percentage) :0.9\n",
      "\n",
      "\tBefore decimation\n",
      "\t-----------------\n",
      "\tThere are 10122 points.\n",
      "\tThere are 20116 polygons.\n",
      "\n",
      "\tAfter decimation\n",
      "\t-----------------\n",
      "\tThere are 0.9 points.\n",
      "\tThere are 10122 polygons.\n",
      "================================================================================\n",
      "Number of vertices : 1019\n",
      "Number of faces : 2011\n"
     ]
    }
   ],
   "source": [
    "vertices, faces = phm_mesh.meshing(voxel_grid.to_image_3d(),\n",
    "                                   reduction=0.90,\n",
    "                                   smoothing_iteration=5,\n",
    "                                   verbose=True)\n",
    "\n",
    "print(\"Number of vertices : {nb_vertices}\".format(nb_vertices=len(vertices)))\n",
    "print(\"Number of faces : {nb_faces}\".format(nb_faces=len(faces)))"
   ]
  },
  {
   "cell_type": "markdown",
   "metadata": {},
   "source": [
    "### 3.2 Viewing"
   ]
  },
  {
   "cell_type": "code",
   "execution_count": 11,
   "metadata": {},
   "outputs": [
    {
     "data": {
      "application/vnd.jupyter.widget-view+json": {
       "model_id": "a3670cf9d6e94d66ae7fce000a444e29",
       "version_major": 2,
       "version_minor": 0
      },
      "text/plain": [
       "VBox(children=(Figure(camera=PerspectiveCamera(fov=46.0, position=(0.0, 2.0, 1.2246467991473532e-16), quaterni…"
      ]
     },
     "metadata": {},
     "output_type": "display_data"
    }
   ],
   "source": [
    "phm_display_notebook.show_mesh(vertices, faces)"
   ]
  },
  {
   "cell_type": "code",
   "execution_count": null,
   "metadata": {},
   "outputs": [],
   "source": []
  }
 ],
 "metadata": {
  "anaconda-cloud": {},
  "kernelspec": {
   "display_name": "Python 3",
   "language": "python",
   "name": "python3"
  },
  "language_info": {
   "codemirror_mode": {
    "name": "ipython",
    "version": 3
   },
   "file_extension": ".py",
   "mimetype": "text/x-python",
   "name": "python",
   "nbconvert_exporter": "python",
   "pygments_lexer": "ipython3",
   "version": "3.7.5"
  }
 },
 "nbformat": 4,
 "nbformat_minor": 1
}
