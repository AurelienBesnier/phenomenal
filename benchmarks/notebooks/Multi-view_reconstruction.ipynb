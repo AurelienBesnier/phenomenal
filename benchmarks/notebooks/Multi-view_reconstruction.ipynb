{
 "cells": [
  {
   "cell_type": "markdown",
   "metadata": {},
   "source": [
    "# Multi-view reconstruction\n",
    "\n",
    "## 1. Prerequisites\n",
    "\n",
    "### 1.1 Load binarizes images"
   ]
  },
  {
   "cell_type": "code",
   "execution_count": 1,
   "metadata": {
    "collapsed": false
   },
   "outputs": [],
   "source": [
    "from alinea.phenomenal.data_plants.plant_1 import plant_1_images_binarize\n",
    "\n",
    "# Load images binarize of the plant_1\n",
    "images = plant_1_images_binarize()"
   ]
  },
  {
   "cell_type": "markdown",
   "metadata": {},
   "source": [
    "### 1.2 Load calibration object"
   ]
  },
  {
   "cell_type": "code",
   "execution_count": 5,
   "metadata": {
    "collapsed": false
   },
   "outputs": [],
   "source": [
    "from alinea.phenomenal.data_plants.plant_1 import plant_1_calibration_camera_side\n",
    "\n",
    "# Load calibration associate to camera of the plant_1\n",
    "calibration = plant_1_calibration_camera_side()"
   ]
  },
  {
   "cell_type": "markdown",
   "metadata": {},
   "source": [
    "## 2. Multi-view reconstruction\n",
    "\n",
    "### 2.1 Associate images and projection function"
   ]
  },
  {
   "cell_type": "code",
   "execution_count": 6,
   "metadata": {
    "collapsed": false
   },
   "outputs": [],
   "source": [
    "# Select images for angle 0 to 360\n",
    "images_projections = list()\n",
    "for angle in range(0, 360, 30):\n",
    "    # Get the binarize image for each angle\n",
    "    img = images[angle]\n",
    "    # Get projection function assiciate to image\n",
    "    projection = calibration.get_projection(angle)\n",
    "    # Append the couple image / projection to the list\n",
    "    images_projections.append((img, projection))"
   ]
  },
  {
   "cell_type": "markdown",
   "metadata": {},
   "source": [
    "### 2.2 Do multi-view reconstruction"
   ]
  },
  {
   "cell_type": "code",
   "execution_count": 7,
   "metadata": {
    "collapsed": false
   },
   "outputs": [
    {
     "name": "stdout",
     "output_type": "stream",
     "text": [
      "Iteration 1 / 10  :  8  -  8\n",
      "Iteration 2 / 10  :  64  -  8\n",
      "Iteration 3 / 10  :  64  -  14\n",
      "Iteration 4 / 10  :  112  -  49\n",
      "Iteration 5 / 10  :  392  -  150\n",
      "Iteration 6 / 10  :  1200  -  437\n",
      "Iteration 7 / 10  :  3496  -  1414\n",
      "Iteration 8 / 10  :  11312  -  5401\n",
      "Iteration 9 / 10  :  43208  -  22993\n",
      "Iteration 10 / 10  :  183944  -  120073\n"
     ]
    }
   ],
   "source": [
    "from alinea.phenomenal.multi_view_reconstruction.multi_view_reconstruction import reconstruction_3d\n",
    "\n",
    "voxel_size = 4\n",
    "voxel_centers = reconstruction_3d(images_projections, voxel_size=voxel_size, verbose=True)"
   ]
  },
  {
   "cell_type": "markdown",
   "metadata": {},
   "source": [
    "### 2.3 Read & Write"
   ]
  },
  {
   "cell_type": "code",
   "execution_count": 9,
   "metadata": {
    "collapsed": false
   },
   "outputs": [],
   "source": [
    "from alinea.phenomenal.multi_view_reconstruction.formats import write_to_csv, read_from_csv\n",
    "\n",
    "# Write\n",
    "write_to_csv(voxel_centers, voxel_size, 'plant_1.csv')\n",
    "\n",
    "# Read\n",
    "voxel_centers, voxel_size = read_from_csv('plant_1.csv')"
   ]
  },
  {
   "cell_type": "markdown",
   "metadata": {},
   "source": [
    "### 2.4 Viewing"
   ]
  },
  {
   "cell_type": "code",
   "execution_count": 10,
   "metadata": {
    "collapsed": false
   },
   "outputs": [],
   "source": [
    "from alinea.phenomenal.display.multi_view_reconstruction import show_points_3d\n",
    "\n",
    "show_points_3d(voxel_centers, scale_factor=2)"
   ]
  },
  {
   "cell_type": "code",
   "execution_count": null,
   "metadata": {
    "collapsed": true
   },
   "outputs": [],
   "source": []
  }
 ],
 "metadata": {
  "kernelspec": {
   "display_name": "Python 2",
   "language": "python",
   "name": "python2"
  },
  "language_info": {
   "codemirror_mode": {
    "name": "ipython",
    "version": 2
   },
   "file_extension": ".py",
   "mimetype": "text/x-python",
   "name": "python",
   "nbconvert_exporter": "python",
   "pygments_lexer": "ipython2",
   "version": "2.7.11"
  }
 },
 "nbformat": 4,
 "nbformat_minor": 0
}
