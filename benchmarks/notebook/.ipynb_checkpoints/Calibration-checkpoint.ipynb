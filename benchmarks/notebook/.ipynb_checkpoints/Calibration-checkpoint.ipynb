{
 "metadata": {
  "name": "",
  "signature": "sha256:cc1609b9a6e44268f83515f336943a88a47bd85b3cfd9f4c99479872f987dc98"
 },
 "nbformat": 3,
 "nbformat_minor": 0,
 "worksheets": [
  {
   "cells": [
    {
     "cell_type": "heading",
     "level": 1,
     "metadata": {},
     "source": [
      "Calibration"
     ]
    },
    {
     "cell_type": "heading",
     "level": 2,
     "metadata": {},
     "source": [
      "1. Prerequisites"
     ]
    },
    {
     "cell_type": "heading",
     "level": 3,
     "metadata": {},
     "source": [
      "1.1 Chessboard object"
     ]
    },
    {
     "cell_type": "markdown",
     "metadata": {},
     "source": [
      "See [Chessboard](Chessboard.ipynb) notebook to create one chessboard object if he don't exist or load existing file with :"
     ]
    },
    {
     "cell_type": "code",
     "collapsed": false,
     "input": [
      "from alinea.phenomenal.calibration import CalibrationCameraSideWith2Target"
     ],
     "language": "python",
     "metadata": {},
     "outputs": [],
     "prompt_number": 3
    },
    {
     "cell_type": "code",
     "collapsed": false,
     "input": [
      "# Read\n",
      "chess_1, chess_2, _ = alinea.phenomenal.plant_1.plant_1_chessboards()"
     ],
     "language": "python",
     "metadata": {},
     "outputs": [
      {
       "ename": "IOError",
       "evalue": "[Errno 2] No such file or directory: 'chessboard_2.json'",
       "output_type": "pyerr",
       "traceback": [
        "\u001b[1;31m---------------------------------------------------------------------------\u001b[0m\n\u001b[1;31mIOError\u001b[0m                                   Traceback (most recent call last)",
        "\u001b[1;32m<ipython-input-4-ca51b58cf3e7>\u001b[0m in \u001b[0;36m<module>\u001b[1;34m()\u001b[0m\n\u001b[0;32m      1\u001b[0m \u001b[1;31m# Read\u001b[0m\u001b[1;33m\u001b[0m\u001b[1;33m\u001b[0m\u001b[0m\n\u001b[0;32m      2\u001b[0m \u001b[0mchess_1\u001b[0m \u001b[1;33m=\u001b[0m \u001b[0mChessboard\u001b[0m\u001b[1;33m.\u001b[0m\u001b[0mload\u001b[0m\u001b[1;33m(\u001b[0m\u001b[1;34m'chessboard_1'\u001b[0m\u001b[1;33m)\u001b[0m\u001b[1;33m\u001b[0m\u001b[0m\n\u001b[1;32m----> 3\u001b[1;33m \u001b[0mchess_2\u001b[0m \u001b[1;33m=\u001b[0m \u001b[0mChessboard\u001b[0m\u001b[1;33m.\u001b[0m\u001b[0mload\u001b[0m\u001b[1;33m(\u001b[0m\u001b[1;34m'chessboard_2'\u001b[0m\u001b[1;33m)\u001b[0m\u001b[1;33m\u001b[0m\u001b[0m\n\u001b[0m",
        "\u001b[1;32mc:\\cygwin64\\home\\artzetsi\\phenomenal\\src\\alinea\\phenomenal\\chessboard.pyc\u001b[0m in \u001b[0;36mload\u001b[1;34m(file_path)\u001b[0m\n\u001b[0;32m    134\u001b[0m     \u001b[1;32mdef\u001b[0m \u001b[0mload\u001b[0m\u001b[1;33m(\u001b[0m\u001b[0mfile_path\u001b[0m\u001b[1;33m)\u001b[0m\u001b[1;33m:\u001b[0m\u001b[1;33m\u001b[0m\u001b[0m\n\u001b[0;32m    135\u001b[0m \u001b[1;33m\u001b[0m\u001b[0m\n\u001b[1;32m--> 136\u001b[1;33m         \u001b[1;32mwith\u001b[0m \u001b[0mopen\u001b[0m\u001b[1;33m(\u001b[0m\u001b[0mfile_path\u001b[0m \u001b[1;33m+\u001b[0m \u001b[1;34m'.json'\u001b[0m\u001b[1;33m,\u001b[0m \u001b[1;34m'r'\u001b[0m\u001b[1;33m)\u001b[0m \u001b[1;32mas\u001b[0m \u001b[0minput_file\u001b[0m\u001b[1;33m:\u001b[0m\u001b[1;33m\u001b[0m\u001b[0m\n\u001b[0m\u001b[0;32m    137\u001b[0m             \u001b[0msave_class\u001b[0m \u001b[1;33m=\u001b[0m \u001b[0mjson\u001b[0m\u001b[1;33m.\u001b[0m\u001b[0mload\u001b[0m\u001b[1;33m(\u001b[0m\u001b[0minput_file\u001b[0m\u001b[1;33m)\u001b[0m\u001b[1;33m\u001b[0m\u001b[0m\n\u001b[0;32m    138\u001b[0m \u001b[1;33m\u001b[0m\u001b[0m\n",
        "\u001b[1;31mIOError\u001b[0m: [Errno 2] No such file or directory: 'chessboard_2.json'"
       ]
      }
     ],
     "prompt_number": 4
    },
    {
     "cell_type": "heading",
     "level": 2,
     "metadata": {},
     "source": [
      "2. Calibrate"
     ]
    },
    {
     "cell_type": "heading",
     "level": 3,
     "metadata": {},
     "source": [
      "2.1 Do calibration"
     ]
    },
    {
     "cell_type": "code",
     "collapsed": false,
     "input": [
      "# Import module \n",
      "from alinea.phenomenal.calibration import CalibrationCameraSideWith2Target"
     ],
     "language": "python",
     "metadata": {},
     "outputs": [],
     "prompt_number": 3
    },
    {
     "cell_type": "code",
     "collapsed": false,
     "input": [
      "# Define size image of image chessboard to calibrate\n",
      "size_image = (2056, 2454)\n",
      "\n",
      "# Calibrate\n",
      "calibration = CalibrationCameraSideWith2Target()\n",
      "err = calibration.calibrate(chess_1.get_corners_2d(), \n",
      "                            chess_1.get_corners_local_3d(),\n",
      "                            chess_2.get_corners_2d(), \n",
      "                            chess_2.get_corners_local_3d(),\n",
      "                            size_image,\n",
      "                            number_of_repetition=5)"
     ],
     "language": "python",
     "metadata": {},
     "outputs": []
    },
    {
     "cell_type": "heading",
     "level": 3,
     "metadata": {},
     "source": [
      "2.2 Dump & Load"
     ]
    },
    {
     "cell_type": "code",
     "collapsed": false,
     "input": [
      "# Dump\n",
      "calibration.dump('calibration_camera_side_2_target')"
     ],
     "language": "python",
     "metadata": {},
     "outputs": []
    },
    {
     "cell_type": "code",
     "collapsed": false,
     "input": [
      "# Load \n",
      "calibration = CalibrationCameraSideWith2Target.load(\n",
      "    'calibration_camera_side_2_target')\n",
      "\n",
      "print calibration\n",
      "print err"
     ],
     "language": "python",
     "metadata": {},
     "outputs": [
      {
       "output_type": "stream",
       "stream": "stdout",
       "text": [
        "Camera Parameters : \n",
        "\tFocal length X : 4658.96064559\n",
        "\tFocal length Y : 4656.31013247\n",
        "\tOptical Center X : 1028.0\n",
        "\tOptical Center Y : 1227.0\n",
        "\n",
        "\tPosition X : 5429.64282211\n",
        "\tPosition Y : 0.0\n",
        "\tPosition Z : 0.0\n",
        "\n",
        "\tRotation X : 0.00729913600968\n",
        "\tRotation Y : 0.00136852415219\n",
        "\tRotation Z : 6.27969135802\n",
        "\tOrigin rotation position : \n",
        "[[ 0.  0.  1.  0.]\n",
        " [ 1.  0.  0.  0.]\n",
        " [ 0.  1.  0.  0.]\n",
        " [ 0.  0.  0.  1.]]\n",
        "\n",
        "Target 1: \n",
        "\tPosition X : 243.832546748\n",
        "\tPosition Y : -37.0808373715\n",
        "\tPosition Z : 386.163587794\n",
        "\n",
        "\tRotation X : 4.96237668946\n",
        "\tRotation Y : 0.131911264065\n",
        "\tRotation Z : 3.96884388287\n",
        "\n",
        "Target 2: \n",
        "\tPosition X : -259.993538966\n",
        "\tPosition Y : 4.27647779544\n",
        "\tPosition Z : 344.417250688\n",
        "\n",
        "\tRotation X : 5.00551362547\n",
        "\tRotation Y : 6.12372756983\n",
        "\tRotation Z : 0.631354010809\n",
        "\n",
        "\n"
       ]
      },
      {
       "ename": "NameError",
       "evalue": "name 'err' is not defined",
       "output_type": "pyerr",
       "traceback": [
        "\u001b[1;31m---------------------------------------------------------------------------\u001b[0m\n\u001b[1;31mNameError\u001b[0m                                 Traceback (most recent call last)",
        "\u001b[1;32m<ipython-input-6-f2f1dd09ccf4>\u001b[0m in \u001b[0;36m<module>\u001b[1;34m()\u001b[0m\n\u001b[0;32m      4\u001b[0m \u001b[1;33m\u001b[0m\u001b[0m\n\u001b[0;32m      5\u001b[0m \u001b[1;32mprint\u001b[0m \u001b[0mcalibration\u001b[0m\u001b[1;33m\u001b[0m\u001b[0m\n\u001b[1;32m----> 6\u001b[1;33m \u001b[1;32mprint\u001b[0m \u001b[0merr\u001b[0m\u001b[1;33m\u001b[0m\u001b[0m\n\u001b[0m",
        "\u001b[1;31mNameError\u001b[0m: name 'err' is not defined"
       ]
      }
     ],
     "prompt_number": 6
    },
    {
     "cell_type": "heading",
     "level": 3,
     "metadata": {},
     "source": [
      "2.6 Viewing calibration error "
     ]
    },
    {
     "cell_type": "heading",
     "level": 4,
     "metadata": {},
     "source": [
      "2.6.1 Load path file from chessboard image dataset"
     ]
    },
    {
     "cell_type": "code",
     "collapsed": false,
     "input": [
      "import glob\n",
      "\n",
      "data_directory = '../../local/CHESSBOARD_1/'\n",
      "\n",
      "# Load path files from directory\n",
      "files_path = glob.glob(data_directory + '*.png')\n",
      "\n",
      "# Extract angles from path files\n",
      "angles = map(lambda x: int((x.split('sv')[1]).split('.png')[0]), files_path)\n",
      "\n",
      "# Example to print loaded angles\n",
      "print 'Angles : ', angles\n",
      "\n",
      "image_path = dict()\n",
      "for i in range(len(files_path)):\n",
      "    image_path[angles[i]] = files_path[i]\n",
      "    \n",
      "# Example to print path 90 angle\n",
      "print 'Patgh 90 angle : ', image_path[90]"
     ],
     "language": "python",
     "metadata": {},
     "outputs": [
      {
       "output_type": "stream",
       "stream": "stdout",
       "text": [
        "Angles :  [0, 3, 6, 9, 12, 15, 18, 21, 24, 27, 30, 33, 36, 39, 42, 45, 48, 51, 54, 57, 60, 63, 66, 69, 72, 75, 78, 81, 84, 87, 90, 93, 96, 99, 102, 105, 108, 354, 357]\n",
        "Patgh 90 angle :  ../../local/CHESSBOARD_1\\2013-07-11 15_49_42vis_sv090.png\n"
       ]
      }
     ],
     "prompt_number": 7
    },
    {
     "cell_type": "heading",
     "level": 4,
     "metadata": {},
     "source": [
      "2.6.2 Show chessboard image with corners projection"
     ]
    },
    {
     "cell_type": "code",
     "collapsed": false,
     "input": [
      "import cv2\n",
      "import alinea.phenomenal.viewer\n",
      "\n",
      "angle = 42\n",
      "\n",
      "img = cv2.imread(image_path[angle], cv2.IMREAD_UNCHANGED)\n",
      "points_2d = calibration.get_target_1_projected(\n",
      "    angle, chess_1.get_corners_local_3d())\n",
      "\n",
      "alinea.phenomenal.viewer.show_chessboard_3d_projection_on_image(\n",
      "        img,\n",
      "        chess_1.corners_points[angle],\n",
      "        points_2d,\n",
      "        name_windows=str(angle))"
     ],
     "language": "python",
     "metadata": {},
     "outputs": [
      {
       "output_type": "stream",
       "stream": "stderr",
       "text": [
        "WARNING:traits.has_traits:DEPRECATED: traits.has_traits.wrapped_class, 'the 'implements' class advisor has been deprecated. Use the 'provides' class decorator.\n"
       ]
      }
     ],
     "prompt_number": 8
    },
    {
     "cell_type": "code",
     "collapsed": false,
     "input": [],
     "language": "python",
     "metadata": {},
     "outputs": []
    }
   ],
   "metadata": {}
  }
 ]
}