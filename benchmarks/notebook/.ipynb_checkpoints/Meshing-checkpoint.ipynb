{
 "cells": [
  {
   "cell_type": "markdown",
   "metadata": {},
   "source": [
    "# Meshing\n",
    "\n",
    "## 1. Prerequisites\n",
    "\n",
    "### 1.1 Load cloud point of voxel centers"
   ]
  },
  {
   "cell_type": "code",
   "execution_count": 1,
   "metadata": {
    "collapsed": false
   },
   "outputs": [],
   "source": [
    "import alinea.phenomenal.plant_1\n",
    "import alinea.phenomenal.viewer\n",
    "\n",
    "voxel_size = 3\n",
    "voxel_centers = alinea.phenomenal.plant_1.plant_1_voxel_centers(voxel_size=voxel_size)\n",
    "\n",
    "# Display it\n",
    "alinea.phenomenal.viewer.show_points_3d(voxel_centers)"
   ]
  },
  {
   "cell_type": "markdown",
   "metadata": {},
   "source": [
    "## 2. Meshing\n",
    "\n",
    "### 2.1 Do meshing"
   ]
  },
  {
   "cell_type": "code",
   "execution_count": 2,
   "metadata": {
    "collapsed": false
   },
   "outputs": [
    {
     "name": "stdout",
     "output_type": "stream",
     "text": [
      "================================================================\n",
      "Marching cubes :\n",
      "\tIso value : 0.5\n",
      "\n",
      "\tThere are 171558 points.\n",
      "\tThere are 342336 polygons.\n",
      "\n",
      "================================================================\n",
      "================================================================\n",
      "Smoothing :\n",
      "\tFeature angle : 120.0\n",
      "\tNumber of iteration : 2\n",
      "\tPass band : 0.01\n",
      "\n",
      "================================================================\n",
      "================================================================\n",
      "Decimation :\n",
      "\tReduction (percentage) : "
     ]
    },
    {
     "ename": "ValueError",
     "evalue": "I/O operation on closed file",
     "output_type": "error",
     "traceback": [
      "\u001b[1;31m---------------------------------------------------------------------------\u001b[0m",
      "\u001b[1;31mValueError\u001b[0m                                Traceback (most recent call last)",
      "\u001b[1;32m<ipython-input-2-106353865fdd>\u001b[0m in \u001b[0;36m<module>\u001b[1;34m()\u001b[0m\n\u001b[0;32m      3\u001b[0m vertices, faces = alinea.phenomenal.mesh.meshing(\n\u001b[0;32m      4\u001b[0m     \u001b[0mvoxel_centers\u001b[0m\u001b[1;33m,\u001b[0m \u001b[0mvoxel_size\u001b[0m\u001b[1;33m,\u001b[0m\u001b[1;33m\u001b[0m\u001b[0m\n\u001b[1;32m----> 5\u001b[1;33m     reduction=0.95, smoothing_iteration=2, verbose=True)\n\u001b[0m",
      "\u001b[1;32mc:\\cygwin64\\home\\artzetsi\\phenomenal\\src\\alinea\\phenomenal\\mesh.pyc\u001b[0m in \u001b[0;36mmeshing\u001b[1;34m(voxel_centers, voxel_size, smoothing_iteration, reduction, verbose)\u001b[0m\n\u001b[0;32m     83\u001b[0m             \u001b[0mvtk_poly_data\u001b[0m\u001b[1;33m,\u001b[0m\u001b[1;33m\u001b[0m\u001b[0m\n\u001b[0;32m     84\u001b[0m             \u001b[0mreduction\u001b[0m\u001b[1;33m=\u001b[0m\u001b[0mreduction\u001b[0m\u001b[1;33m,\u001b[0m\u001b[1;33m\u001b[0m\u001b[0m\n\u001b[1;32m---> 85\u001b[1;33m             verbose=verbose)\n\u001b[0m\u001b[0;32m     86\u001b[0m \u001b[1;33m\u001b[0m\u001b[0m\n\u001b[0;32m     87\u001b[0m     \u001b[1;32mif\u001b[0m \u001b[0mvtk_poly_data\u001b[0m\u001b[1;33m.\u001b[0m\u001b[0mGetNumberOfPoints\u001b[0m\u001b[1;33m(\u001b[0m\u001b[1;33m)\u001b[0m \u001b[1;33m==\u001b[0m \u001b[1;36m0\u001b[0m\u001b[1;33m:\u001b[0m\u001b[1;33m\u001b[0m\u001b[0m\n",
      "\u001b[1;32mc:\\cygwin64\\home\\artzetsi\\phenomenal\\src\\alinea\\phenomenal\\mesh.pyc\u001b[0m in \u001b[0;36mdecimation\u001b[1;34m(vtk_poly_data, reduction, verbose)\u001b[0m\n\u001b[0;32m    252\u001b[0m         \u001b[1;32mprint\u001b[0m \u001b[1;34m\"================================================================\"\u001b[0m\u001b[1;33m\u001b[0m\u001b[0m\n\u001b[0;32m    253\u001b[0m         \u001b[1;32mprint\u001b[0m \u001b[1;34m\"Decimation :\"\u001b[0m\u001b[1;33m\u001b[0m\u001b[0m\n\u001b[1;32m--> 254\u001b[1;33m         \u001b[1;32mprint\u001b[0m \u001b[1;34m\"\\tReduction (percentage) :\"\u001b[0m\u001b[1;33m,\u001b[0m \u001b[0mreduction\u001b[0m\u001b[1;33m\u001b[0m\u001b[0m\n\u001b[0m\u001b[0;32m    255\u001b[0m         \u001b[1;32mprint\u001b[0m \u001b[1;34m\"\"\u001b[0m\u001b[1;33m\u001b[0m\u001b[0m\n\u001b[0;32m    256\u001b[0m         \u001b[1;32mprint\u001b[0m \u001b[1;34m\"\\tBefore decimation\"\u001b[0m\u001b[1;33m\u001b[0m\u001b[0m\n",
      "\u001b[1;32mc:\\python27\\lib\\site-packages\\ipykernel\\iostream.pyc\u001b[0m in \u001b[0;36mwrite\u001b[1;34m(self, string)\u001b[0m\n\u001b[0;32m    315\u001b[0m \u001b[1;33m\u001b[0m\u001b[0m\n\u001b[0;32m    316\u001b[0m             \u001b[0mis_child\u001b[0m \u001b[1;33m=\u001b[0m \u001b[1;33m(\u001b[0m\u001b[1;32mnot\u001b[0m \u001b[0mself\u001b[0m\u001b[1;33m.\u001b[0m\u001b[0m_is_master_process\u001b[0m\u001b[1;33m(\u001b[0m\u001b[1;33m)\u001b[0m\u001b[1;33m)\u001b[0m\u001b[1;33m\u001b[0m\u001b[0m\n\u001b[1;32m--> 317\u001b[1;33m             \u001b[0mself\u001b[0m\u001b[1;33m.\u001b[0m\u001b[0m_buffer\u001b[0m\u001b[1;33m.\u001b[0m\u001b[0mwrite\u001b[0m\u001b[1;33m(\u001b[0m\u001b[0mstring\u001b[0m\u001b[1;33m)\u001b[0m\u001b[1;33m\u001b[0m\u001b[0m\n\u001b[0m\u001b[0;32m    318\u001b[0m             \u001b[1;32mif\u001b[0m \u001b[0mis_child\u001b[0m\u001b[1;33m:\u001b[0m\u001b[1;33m\u001b[0m\u001b[0m\n\u001b[0;32m    319\u001b[0m                 \u001b[1;31m# newlines imply flush in subprocesses\u001b[0m\u001b[1;33m\u001b[0m\u001b[1;33m\u001b[0m\u001b[0m\n",
      "\u001b[1;31mValueError\u001b[0m: I/O operation on closed file"
     ]
    }
   ],
   "source": [
    "import alinea.phenomenal.mesh\n",
    "\n",
    "vertices, faces = alinea.phenomenal.mesh.meshing(\n",
    "    voxel_centers, voxel_size,\n",
    "    reduction=0.95, smoothing_iteration=2, verbose=True)"
   ]
  },
  {
   "cell_type": "markdown",
   "metadata": {},
   "source": [
    "### 2.3 Read & write"
   ]
  },
  {
   "cell_type": "code",
   "execution_count": null,
   "metadata": {
    "collapsed": false
   },
   "outputs": [],
   "source": [
    "# Write\n",
    "alinea.phenomenal.misc.write_mesh(vertices, faces, 'mesh')\n",
    "\n",
    "# Read\n",
    "vertices, faces = alinea.phenomenal.misc.read_mesh('mesh')"
   ]
  },
  {
   "cell_type": "markdown",
   "metadata": {},
   "source": [
    "### 2.4 Display it"
   ]
  },
  {
   "cell_type": "code",
   "execution_count": null,
   "metadata": {
    "collapsed": false
   },
   "outputs": [],
   "source": [
    "import alinea.phenomenal.viewer\n",
    "\n",
    "alinea.phenomenal.viewer.show_mesh(vertices, faces)"
   ]
  },
  {
   "cell_type": "markdown",
   "metadata": {},
   "source": [
    "### 2.5 Normals of each faces"
   ]
  },
  {
   "cell_type": "code",
   "execution_count": null,
   "metadata": {
    "collapsed": false
   },
   "outputs": [],
   "source": [
    "normals = alinea.phenomenal.mesh.compute_normal(vertices, faces)\n",
    "centers = alinea.phenomenal.mesh.center_of_vertices(vertices, faces)\n",
    "\n",
    "# Display it\n",
    "alinea.phenomenal.viewer.show_mesh(vertices, faces, normals=normals, centers=centers)"
   ]
  },
  {
   "cell_type": "markdown",
   "metadata": {},
   "source": [
    "### 2.6. Surface area estimation"
   ]
  },
  {
   "cell_type": "code",
   "execution_count": null,
   "metadata": {
    "collapsed": false
   },
   "outputs": [],
   "source": [
    "import skimage.measure\n",
    "\n",
    "surface = skimage.measure.mesh_surface_area(vertices, faces)\n",
    "\n",
    "print 'Mesh surface area : ', surface"
   ]
  },
  {
   "cell_type": "markdown",
   "metadata": {},
   "source": [
    "## 3. PlantGL Format\n",
    "\n",
    "### 3.1 Add mesh to PantGL scene and display it"
   ]
  },
  {
   "cell_type": "code",
   "execution_count": 7,
   "metadata": {
    "collapsed": false
   },
   "outputs": [],
   "source": [
    "import openalea.plantgl.scenegraph as sg\n",
    "import openalea.plantgl.all as pgl\n",
    "\n",
    "scene = sg.Scene()\n",
    "tset = sg.FaceSet(pointList=vertices, indexList=faces)\n",
    "scene += tset\n",
    "\n",
    "# Display it\n",
    "pgl.Viewer.display(scene)"
   ]
  }
 ],
 "metadata": {
  "kernelspec": {
   "display_name": "Python 2",
   "language": "python",
   "name": "python2"
  },
  "language_info": {
   "codemirror_mode": {
    "name": "ipython",
    "version": 2
   },
   "file_extension": ".py",
   "mimetype": "text/x-python",
   "name": "python",
   "nbconvert_exporter": "python",
   "pygments_lexer": "ipython2",
   "version": "2.7.6"
  }
 },
 "nbformat": 4,
 "nbformat_minor": 0
}
