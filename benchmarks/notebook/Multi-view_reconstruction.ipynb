{
 "metadata": {
  "name": "",
  "signature": "sha256:36ce181e046fcb95068c2bc021a504e4f2b14c6c97d470a967dedeeebd86e57a"
 },
 "nbformat": 3,
 "nbformat_minor": 0,
 "worksheets": [
  {
   "cells": [
    {
     "cell_type": "heading",
     "level": 1,
     "metadata": {},
     "source": [
      "Multi-view reconstruction"
     ]
    },
    {
     "cell_type": "heading",
     "level": 2,
     "metadata": {},
     "source": [
      "1. Prerequisites"
     ]
    },
    {
     "cell_type": "heading",
     "level": 3,
     "metadata": {},
     "source": [
      "1.1 Images binarize"
     ]
    },
    {
     "cell_type": "code",
     "collapsed": false,
     "input": [
      "from alinea.phenomenal.plant_1 import plant_1_images_binarize\n",
      "\n",
      "# Load images binarize\n",
      "images = plant_1_images_binarize()"
     ],
     "language": "python",
     "metadata": {},
     "outputs": [],
     "prompt_number": 1
    },
    {
     "cell_type": "heading",
     "level": 3,
     "metadata": {},
     "source": [
      "1.2 Projection object"
     ]
    },
    {
     "cell_type": "heading",
     "level": 4,
     "metadata": {},
     "source": [
      "1.2 Calibration parameters"
     ]
    },
    {
     "cell_type": "code",
     "collapsed": false,
     "input": [
      "from alinea.phenomenal.plant_1 import plant_1_calibration_camera_side_2_target\n",
      "\n",
      "# Load Calibration\n",
      "calibration = plant_1_calibration_camera_side_2_target()"
     ],
     "language": "python",
     "metadata": {},
     "outputs": [],
     "prompt_number": 2
    },
    {
     "cell_type": "heading",
     "level": 2,
     "metadata": {},
     "source": [
      "2. Multi-view reconstruction"
     ]
    },
    {
     "cell_type": "heading",
     "level": 3,
     "metadata": {},
     "source": [
      "2.1 Select images"
     ]
    },
    {
     "cell_type": "code",
     "collapsed": false,
     "input": [
      "# Select images\n",
      "images_projections = list()\n",
      "for angle in range(0, 360, 30):\n",
      "    img = images[angle]\n",
      "    projection = calibration.get_projection(angle)\n",
      "    images_projections.append((img, projection))"
     ],
     "language": "python",
     "metadata": {},
     "outputs": [],
     "prompt_number": 3
    },
    {
     "cell_type": "heading",
     "level": 3,
     "metadata": {},
     "source": [
      "2.2 Do multi-view reconstruction"
     ]
    },
    {
     "cell_type": "code",
     "collapsed": false,
     "input": [
      "from alinea.phenomenal.multi_view_reconstruction import reconstruction_3d\n",
      "\n",
      "voxel_size = 4\n",
      "# Multi-view reconstruction\n",
      "points_3d = reconstruction_3d(images_projections, voxel_size=voxel_size, verbose=True)"
     ],
     "language": "python",
     "metadata": {},
     "outputs": [
      {
       "output_type": "stream",
       "stream": "stdout",
       "text": [
        "Iteration 1 / 10  :  8 "
       ]
      },
      {
       "output_type": "stream",
       "stream": "stdout",
       "text": [
        " -  8\n",
        "Iteration 2 / 10  :  64 "
       ]
      },
      {
       "output_type": "stream",
       "stream": "stdout",
       "text": [
        " -  8\n",
        "Iteration 3 / 10  :  64 "
       ]
      },
      {
       "output_type": "stream",
       "stream": "stdout",
       "text": [
        " -  17\n",
        "Iteration 4 / 10  :  136 "
       ]
      },
      {
       "output_type": "stream",
       "stream": "stdout",
       "text": [
        " -  47\n",
        "Iteration 5 / 10  :  376 "
       ]
      },
      {
       "output_type": "stream",
       "stream": "stdout",
       "text": [
        " -  153\n",
        "Iteration 6 / 10  :  1224 "
       ]
      },
      {
       "output_type": "stream",
       "stream": "stdout",
       "text": [
        " -  411\n",
        "Iteration 7 / 10  :  3288 "
       ]
      },
      {
       "output_type": "stream",
       "stream": "stdout",
       "text": [
        " -  1345\n",
        "Iteration 8 / 10  :  10760 "
       ]
      },
      {
       "output_type": "stream",
       "stream": "stdout",
       "text": [
        " -  5281\n",
        "Iteration 9 / 10  :  42248 "
       ]
      },
      {
       "output_type": "stream",
       "stream": "stdout",
       "text": [
        " -  22648\n",
        "Iteration 10 / 10  :  181184 "
       ]
      },
      {
       "output_type": "stream",
       "stream": "stdout",
       "text": [
        " -  119330\n"
       ]
      }
     ],
     "prompt_number": 4
    },
    {
     "cell_type": "heading",
     "level": 3,
     "metadata": {},
     "source": [
      "2.3 Read & Write"
     ]
    },
    {
     "cell_type": "code",
     "collapsed": false,
     "input": [
      "from alinea.phenomenal.misc import write_xyz, read_xyz\n",
      "\n",
      "# Write\n",
      "write_xyz(points_3d, 'test_plant_1_points_3d')\n",
      "\n",
      "# Read\n",
      "points_3d = read_xyz('test_plant_1_points_3d')"
     ],
     "language": "python",
     "metadata": {},
     "outputs": [],
     "prompt_number": 5
    },
    {
     "cell_type": "heading",
     "level": 3,
     "metadata": {},
     "source": [
      "2.4 Viewing"
     ]
    },
    {
     "cell_type": "code",
     "collapsed": false,
     "input": [
      "import alinea.phenomenal.viewer\n",
      "\n",
      "alinea.phenomenal.viewer.show_points_3d(points_3d, scale_factor=2)"
     ],
     "language": "python",
     "metadata": {},
     "outputs": [
      {
       "output_type": "stream",
       "stream": "stderr",
       "text": [
        "WARNING:traits.has_traits:DEPRECATED: traits.has_traits.wrapped_class, 'the 'implements' class advisor has been deprecated. Use the 'provides' class decorator.\n"
       ]
      }
     ],
     "prompt_number": 6
    },
    {
     "cell_type": "code",
     "collapsed": false,
     "input": [],
     "language": "python",
     "metadata": {},
     "outputs": []
    }
   ],
   "metadata": {}
  }
 ]
}