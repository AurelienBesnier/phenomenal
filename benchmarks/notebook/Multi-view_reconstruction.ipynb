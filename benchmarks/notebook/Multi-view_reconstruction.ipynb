{
 "cells": [
  {
   "cell_type": "markdown",
   "metadata": {},
   "source": [
    "# Multi-view reconstruction\n",
    "\n",
    "## 1. Prerequisites\n",
    "\n",
    "### 1.1 Load binarizes images"
   ]
  },
  {
   "cell_type": "code",
   "execution_count": 1,
   "metadata": {
    "collapsed": false
   },
   "outputs": [],
   "source": [
    "from alinea.phenomenal.plant_1 import plant_1_images_binarize\n",
    "\n",
    "# Load images binarize of the plant_1\n",
    "images = plant_1_images_binarize()"
   ]
  },
  {
   "cell_type": "markdown",
   "metadata": {},
   "source": [
    "### 1.2 Load calibration object"
   ]
  },
  {
   "cell_type": "code",
   "execution_count": 2,
   "metadata": {
    "collapsed": false
   },
   "outputs": [],
   "source": [
    "from alinea.phenomenal.plant_1 import plant_1_calibration_camera_side_2_target\n",
    "\n",
    "# Load calibration associate to camera of the plant_1\n",
    "calibration = plant_1_calibration_camera_side_2_target()"
   ]
  },
  {
   "cell_type": "markdown",
   "metadata": {},
   "source": [
    "## 2. Multi-view reconstruction\n",
    "\n",
    "### 2.1 Associate images and projection function"
   ]
  },
  {
   "cell_type": "code",
   "execution_count": 3,
   "metadata": {
    "collapsed": false
   },
   "outputs": [],
   "source": [
    "# Select images for angle 0 to 360\n",
    "images_projections = list()\n",
    "for angle in range(0, 360, 30):\n",
    "    # Get the binarize image for each angle\n",
    "    img = images[angle]\n",
    "    # Get projection function assiciate to image\n",
    "    projection = calibration.get_projection(angle)\n",
    "    # Append the couple image / projection to the list\n",
    "    images_projections.append((img, projection))"
   ]
  },
  {
   "cell_type": "markdown",
   "metadata": {},
   "source": [
    "### 2.2 Do multi-view reconstruction"
   ]
  },
  {
   "cell_type": "code",
   "execution_count": 4,
   "metadata": {
    "collapsed": false
   },
   "outputs": [
    {
     "name": "stdout",
     "output_type": "stream",
     "text": [
      "Iteration 1 / 10  :  8  -  8\n",
      "Iteration 2 / 10  :  64  -  8\n",
      "Iteration 3 / 10  :  64  -  14\n",
      "Iteration 4 / 10  :  112  -  49\n",
      "Iteration 5 / 10  :  392  -  150\n",
      "Iteration 6 / 10  :  1200  -  437\n",
      "Iteration 7 / 10  :  3496  -  1414\n",
      "Iteration 8 / 10  :  11312  -  5401\n",
      "Iteration 9 / 10  :  43208  -  22993\n",
      "Iteration 10 / 10  :  183944  -  120073\n"
     ]
    }
   ],
   "source": [
    "from alinea.phenomenal.multi_view_reconstruction import reconstruction_3d\n",
    "\n",
    "voxel_size = 4\n",
    "voxel_centers = reconstruction_3d(images_projections, voxel_size=voxel_size, verbose=True)"
   ]
  },
  {
   "cell_type": "markdown",
   "metadata": {},
   "source": [
    "### 2.3 Read & Write"
   ]
  },
  {
   "cell_type": "code",
   "execution_count": 5,
   "metadata": {
    "collapsed": false
   },
   "outputs": [],
   "source": [
    "from alinea.phenomenal.misc import write_xyz, read_xyz\n",
    "\n",
    "# Write\n",
    "write_xyz(voxel_centers, 'test_plant_1_points_3d')\n",
    "\n",
    "# Read\n",
    "voxel_centers = read_xyz('test_plant_1_points_3d')"
   ]
  },
  {
   "cell_type": "markdown",
   "metadata": {},
   "source": [
    "### 2.4 Viewing"
   ]
  },
  {
   "cell_type": "code",
   "execution_count": 6,
   "metadata": {
    "collapsed": false
   },
   "outputs": [],
   "source": [
    "import alinea.phenomenal.viewer\n",
    "\n",
    "alinea.phenomenal.viewer.show_points_3d(voxel_centers, scale_factor=2)"
   ]
  }
 ],
 "metadata": {
  "kernelspec": {
   "display_name": "Python 2",
   "language": "python",
   "name": "python2"
  },
  "language_info": {
   "codemirror_mode": {
    "name": "ipython",
    "version": 2
   },
   "file_extension": ".py",
   "mimetype": "text/x-python",
   "name": "python",
   "nbconvert_exporter": "python",
   "pygments_lexer": "ipython2",
   "version": "2.7.6"
  }
 },
 "nbformat": 4,
 "nbformat_minor": 0
}
