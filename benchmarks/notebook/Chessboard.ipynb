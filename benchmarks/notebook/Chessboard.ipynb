{
 "metadata": {
  "name": "",
  "signature": "sha256:7c6405a9fc5c4287f9fbe24da1fceb24e482603168648879a4c72f378dd7f5b3"
 },
 "nbformat": 3,
 "nbformat_minor": 0,
 "worksheets": [
  {
   "cells": [
    {
     "cell_type": "heading",
     "level": 1,
     "metadata": {},
     "source": [
      "Cheesboard"
     ]
    },
    {
     "cell_type": "heading",
     "level": 2,
     "metadata": {},
     "source": [
      "1. Prerequisites"
     ]
    },
    {
     "cell_type": "heading",
     "level": 3,
     "metadata": {},
     "source": [
      "1.1 Download data Set "
     ]
    },
    {
     "cell_type": "code",
     "collapsed": false,
     "input": [
      "# Example :\n",
      "data_directory = '../../local/CHESSBOARD_1/'"
     ],
     "language": "python",
     "metadata": {},
     "outputs": [],
     "prompt_number": 1
    },
    {
     "cell_type": "heading",
     "level": 3,
     "metadata": {},
     "source": [
      "1.2 Load path file"
     ]
    },
    {
     "cell_type": "code",
     "collapsed": false,
     "input": [
      "import glob\n",
      "\n",
      "# Load path files from directory\n",
      "files_path = glob.glob(data_directory + '*.png')\n",
      "\n",
      "# Extract angles from path files\n",
      "angles = map(lambda x: int((x.split('sv')[1]).split('.png')[0]), files_path)\n",
      "\n",
      "# Example to print loaded angles\n",
      "print 'Angles : ', angles\n",
      "\n",
      "image_path = dict()\n",
      "for i in range(len(files_path)):\n",
      "    image_path[angles[i]] = files_path[i]\n",
      "    \n",
      "# Example to print path 90 angle\n",
      "print 'Patgh 90 angle : ', image_path[90]"
     ],
     "language": "python",
     "metadata": {},
     "outputs": [
      {
       "output_type": "stream",
       "stream": "stdout",
       "text": [
        "Angles :  [0, 3, 6, 9, 12, 15, 18, 21, 24, 27, 30, 33, 36, 39, 42, 45, 48, 51, 54, 57, 60, 63, 66, 69, 72, 75, 78, 81, 84, 87, 90, 93, 96, 99, 102, 105, 108, 354, 357]\n",
        "Patgh 90 angle :  ../../local/CHESSBOARD_1\\2013-07-11 15_49_42vis_sv090.png\n"
       ]
      }
     ],
     "prompt_number": 3
    },
    {
     "cell_type": "heading",
     "level": 2,
     "metadata": {},
     "source": [
      "2. Chessboard object"
     ]
    },
    {
     "cell_type": "heading",
     "level": 3,
     "metadata": {},
     "source": [
      "2.1 Create"
     ]
    },
    {
     "cell_type": "markdown",
     "metadata": {},
     "source": [
      "Create chessboard object with square size and shape of chessboard"
     ]
    },
    {
     "cell_type": "code",
     "collapsed": false,
     "input": [
      "import alinea.phenomenal.chessboard\n",
      "\n",
      "square_size_of_chessboard = 47 # mm\n",
      "square_shape_of_chessboard = (8, 6) # 8 square x 6 square on chessboard\n",
      "\n",
      "chessboard_1 = alinea.phenomenal.chessboard.Chessboard(\n",
      "    square_size_of_chessboard, square_shape_of_chessboard)"
     ],
     "language": "python",
     "metadata": {},
     "outputs": [],
     "prompt_number": 4
    },
    {
     "cell_type": "heading",
     "level": 3,
     "metadata": {},
     "source": [
      "2.2 Find corners"
     ]
    },
    {
     "cell_type": "code",
     "collapsed": false,
     "input": [
      "import cv2\n",
      "\n",
      "for angle in image_path:\n",
      "    # Load image with OpenCv\n",
      "    img = cv2.imread(image_path[angle], cv2.IMREAD_GRAYSCALE)\n",
      "    # Call chessboard object function for find corners\n",
      "    chessboard_1.find_and_add_corners(angle, img)"
     ],
     "language": "python",
     "metadata": {},
     "outputs": [],
     "prompt_number": 5
    },
    {
     "cell_type": "heading",
     "level": 3,
     "metadata": {},
     "source": [
      "2.3 Read & Write"
     ]
    },
    {
     "cell_type": "code",
     "collapsed": false,
     "input": [
      "# Write \n",
      "chessboard_1.dump('chessboard_1')"
     ],
     "language": "python",
     "metadata": {},
     "outputs": [],
     "prompt_number": 6
    },
    {
     "cell_type": "code",
     "collapsed": false,
     "input": [
      "# Read\n",
      "chessboard_1 = alinea.phenomenal.chessboard.Chessboard.load('chessboard_1')"
     ],
     "language": "python",
     "metadata": {},
     "outputs": [],
     "prompt_number": 7
    },
    {
     "cell_type": "code",
     "collapsed": false,
     "input": [
      "print chessboard_1"
     ],
     "language": "python",
     "metadata": {},
     "outputs": [
      {
       "output_type": "stream",
       "stream": "stdout",
       "text": [
        "Chessboard Object Values :\n",
        "Square size (mm): 47.0\n",
        "Shape : [8, 6]\n",
        "Number of angle :39\n",
        "\n",
        "0.0, 3.0, 6.0, 9.0, 12.0, 15.0, 18.0, 21.0, 24.0, 27.0, 30.0, 33.0, 36.0, 39.0, 42.0, 45.0, 48.0, 51.0, 54.0, 57.0, 60.0, 63.0, 66.0, 69.0, 72.0, 75.0, 78.0, 81.0, 84.0, 87.0, 90.0, 93.0, 96.0, 354.0, 99.0, 357.0, 102.0, 105.0, 108.0, \n",
        "\n",
        "\n"
       ]
      }
     ],
     "prompt_number": 8
    },
    {
     "cell_type": "code",
     "collapsed": false,
     "input": [],
     "language": "python",
     "metadata": {},
     "outputs": []
    }
   ],
   "metadata": {}
  }
 ]
}