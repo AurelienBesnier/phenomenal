{
 "cells": [
  {
   "cell_type": "markdown",
   "metadata": {},
   "source": [
    "# Meshing\n",
    "\n",
    "## 1. Prerequisites\n",
    "\n",
    "### 1.1 Load cloud point of voxel centers"
   ]
  },
  {
   "cell_type": "code",
   "execution_count": 1,
   "metadata": {
    "collapsed": false
   },
   "outputs": [],
   "source": [
    "import alinea.phenomenal.plant_1\n",
    "import alinea.phenomenal.viewer\n",
    "\n",
    "voxel_size = 3\n",
    "voxel_centers = alinea.phenomenal.plant_1.plant_1_voxel_centers(voxel_size=voxel_size)\n",
    "\n",
    "# Display it\n",
    "alinea.phenomenal.viewer.show_points_3d(voxel_centers)"
   ]
  },
  {
   "cell_type": "markdown",
   "metadata": {},
   "source": [
    "## 2. Meshing\n",
    "\n",
    "### 2.1 Do meshing"
   ]
  },
  {
   "cell_type": "code",
   "execution_count": 2,
   "metadata": {
    "collapsed": false
   },
   "outputs": [
    {
     "name": "stdout",
     "output_type": "stream",
     "text": [
      "================================================================\n",
      "Marching cubes :\n",
      "\tIso value : 0.5\n",
      "\n",
      "\tThere are 171558 points.\n",
      "\tThere are 342336 polygons.\n",
      "\n",
      "================================================================\n",
      "================================================================\n",
      "Smoothing :\n",
      "\tFeature angle : 120.0\n",
      "\tNumber of iteration : 2\n",
      "\tPass band : 0.01\n",
      "\n",
      "================================================================\n",
      "================================================================\n",
      "Decimation :\n",
      "\tReduction (percentage) : 0.95\n",
      "\n",
      "\tBefore decimation\n",
      "\t-----------------\n",
      "\tThere are 171558 points.\n",
      "\tThere are 342336 polygons.\n",
      "\n",
      "\tAfter decimation\n",
      "\t-----------------\n",
      "\tThere are 8588 points.\n",
      "\tThere are 17116 polygons.\n",
      "================================================================\n"
     ]
    }
   ],
   "source": [
    "import alinea.phenomenal.mesh\n",
    "\n",
    "vertices, faces = alinea.phenomenal.mesh.meshing(\n",
    "    voxel_centers, voxel_size,\n",
    "    reduction=0.95, smoothing_iteration=2, verbose=True)"
   ]
  },
  {
   "cell_type": "markdown",
   "metadata": {},
   "source": [
    "### 2.3 Read & write"
   ]
  },
  {
   "cell_type": "code",
   "execution_count": 3,
   "metadata": {
    "collapsed": false
   },
   "outputs": [],
   "source": [
    "# Write\n",
    "alinea.phenomenal.misc.write_mesh(vertices, faces, 'mesh')\n",
    "\n",
    "# Read\n",
    "vertices, faces = alinea.phenomenal.misc.read_mesh('mesh')"
   ]
  },
  {
   "cell_type": "markdown",
   "metadata": {},
   "source": [
    "### 2.4 Display it"
   ]
  },
  {
   "cell_type": "code",
   "execution_count": 4,
   "metadata": {
    "collapsed": false
   },
   "outputs": [],
   "source": [
    "import alinea.phenomenal.viewer\n",
    "\n",
    "alinea.phenomenal.viewer.show_mesh(vertices, faces)"
   ]
  },
  {
   "cell_type": "markdown",
   "metadata": {},
   "source": [
    "### 2.5 Normals of each faces"
   ]
  },
  {
   "cell_type": "code",
   "execution_count": 5,
   "metadata": {
    "collapsed": false
   },
   "outputs": [],
   "source": [
    "normals = alinea.phenomenal.mesh.compute_normal(vertices, faces)\n",
    "centers = alinea.phenomenal.mesh.center_of_vertices(vertices, faces)\n",
    "\n",
    "# Display it\n",
    "alinea.phenomenal.viewer.show_mesh(vertices, faces, normals=normals, centers=centers)"
   ]
  },
  {
   "cell_type": "markdown",
   "metadata": {},
   "source": [
    "### 2.6. Surface area estimation"
   ]
  },
  {
   "cell_type": "code",
   "execution_count": 6,
   "metadata": {
    "collapsed": false
   },
   "outputs": [
    {
     "name": "stdout",
     "output_type": "stream",
     "text": [
      "Mesh surface area :  1052250.86034\n"
     ]
    }
   ],
   "source": [
    "import skimage.measure\n",
    "\n",
    "surface = skimage.measure.mesh_surface_area(vertices, faces)\n",
    "\n",
    "print 'Mesh surface area : ', surface"
   ]
  },
  {
   "cell_type": "markdown",
   "metadata": {},
   "source": [
    "## 3. PlantGL Format\n",
    "\n",
    "### 3.1 Add mesh to PantGL scene and display it"
   ]
  },
  {
   "cell_type": "code",
   "execution_count": 7,
   "metadata": {
    "collapsed": false
   },
   "outputs": [],
   "source": [
    "import openalea.plantgl.scenegraph as sg\n",
    "import openalea.plantgl.all as pgl\n",
    "\n",
    "scene = sg.Scene()\n",
    "tset = sg.FaceSet(pointList=vertices, indexList=faces)\n",
    "scene += tset\n",
    "\n",
    "# Display it\n",
    "pgl.Viewer.display(scene)"
   ]
  }
 ],
 "metadata": {
  "kernelspec": {
   "display_name": "Python 2",
   "language": "python",
   "name": "python2"
  },
  "language_info": {
   "codemirror_mode": {
    "name": "ipython",
    "version": 2
   },
   "file_extension": ".py",
   "mimetype": "text/x-python",
   "name": "python",
   "nbconvert_exporter": "python",
   "pygments_lexer": "ipython2",
   "version": "2.7.6"
  }
 },
 "nbformat": 4,
 "nbformat_minor": 0
}
